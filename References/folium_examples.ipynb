{
 "metadata": {
  "name": ""
 },
 "nbformat": 3,
 "nbformat_minor": 0,
 "worksheets": [
  {
   "cells": [
    {
     "cell_type": "code",
     "collapsed": false,
     "input": [
      "import folium\n",
      "import pandas as pd\n",
      "\n",
      "folium.initialize_notebook()"
     ],
     "language": "python",
     "metadata": {},
     "outputs": [
      {
       "html": [
        "<link rel=\"stylesheet\" href=\"http://cdn.leafletjs.com/leaflet-0.7.2/leaflet.css\" />\n",
        "<style>\n",
        "    .leaflet-popup-content {\n",
        "        color: black !important;\n",
        "    }\n",
        "\n",
        "    .leaflet-control-zoom-in {\n",
        "        text-decoration: none !important;\n",
        "    }\n",
        "\n",
        "    .leaflet-control-zoom-out {\n",
        "        text-decoration: none !important;\n",
        "    }\n",
        "</style>"
       ],
       "metadata": {},
       "output_type": "display_data",
       "text": [
        "<IPython.core.display.HTML at 0x106e846d0>"
       ]
      },
      {
       "html": [
        "<script>\n",
        "\n",
        "  var folium_event = new CustomEvent(\n",
        "    \"folium_libs_loaded\",\n",
        "    {bubbles: true, cancelable: true}\n",
        "  );\n",
        "\n",
        "  var load_folium_charts = function(){\n",
        "    window.dispatchEvent(folium_event);\n",
        "  };\n",
        "\n",
        " var load_folium_libs = function(){\n",
        "    console.log('Loading all Folium libraries...')\n",
        "    $.getScript(\"http://cdn.leafletjs.com/leaflet-0.7.2/leaflet.js\", function(){\n",
        "      $.getScript('https://wrobstory.github.io/leaflet-dvf/leaflet-dvf.markers.min.js', function(){\n",
        "          if (window['vg'] === undefined){\n",
        "            $.getScript(\"http://trifacta.github.com/vega/vega.js\", function(){\n",
        "              load_folium_charts();\n",
        "          });\n",
        "        } else {\n",
        "          load_folium_charts();\n",
        "        }\n",
        "      });\n",
        "    });\n",
        "  };\n",
        "\n",
        " if(typeof define === \"function\" && define.amd){\n",
        "      var load_paths = {\n",
        "        paths: {\n",
        "          topojson:'http://d3js.org/topojson.v1.min',\n",
        "          queue: 'http://d3js.org/queue.v1.min',\n",
        "          d3: 'http://d3js.org/d3.v3.min'\n",
        "        }\n",
        "      };\n",
        "      var libs = ['d3', 'queue', 'topojson'];\n",
        "      for (var i=0; i < libs.length; i++){\n",
        "        lib = libs[i]\n",
        "        if (window[lib] !== undefined){\n",
        "          delete load_paths.paths[lib]\n",
        "        };\n",
        "      };\n",
        "      if (Object.keys(load_paths.paths).length != 0){\n",
        "        require.config(load_paths);\n",
        "        require([\"queue\"], function(queue){\n",
        "          window.queue = queue;\n",
        "        });\n",
        "        require([\"d3\"], function(d3){\n",
        "            console.log('Loading from require.js...')\n",
        "            window.d3 = d3;\n",
        "            require([\"topojson\"], function(topojson){\n",
        "                window.topojson = topojson;\n",
        "                load_folium_libs();\n",
        "            });\n",
        "        });\n",
        "      } else {\n",
        "        load_folium_libs();\n",
        "      }\n",
        "\n",
        " }else{\n",
        "      console.log('Require.js not found!');\n",
        "      throw \"Require.js not found!\"\n",
        " };\n",
        "\n",
        "</script>"
       ],
       "metadata": {},
       "output_type": "display_data",
       "text": [
        "<IPython.core.display.HTML at 0x106e846d0>"
       ]
      }
     ],
     "prompt_number": 1
    },
    {
     "cell_type": "code",
     "collapsed": false,
     "input": [
      "#Standard OSM\n",
      "map_osm = folium.Map(location=[45.5236, -122.6750])\n",
      "map_osm"
     ],
     "language": "python",
     "metadata": {},
     "outputs": [
      {
       "html": [
        "\n",
        "<div id=\"folium_b37bb5c1eeef43418fd25bff1eb9fe2d\" style=\"width: 960px; height: 500px\"></div>\n",
        "\n",
        "<script>\n",
        "\n",
        "  var make_plot = function(){\n",
        "    if (typeof L === 'undefined'){\n",
        "      window.addEventListener('leaflet_libs_loaded', make_plot)\n",
        "      return;\n",
        "    }\n",
        "\n",
        "    var render_plot = (function(){\n",
        "\n",
        "      \n",
        "\n",
        "      var map = L.map('folium_b37bb5c1eeef43418fd25bff1eb9fe2d').setView([45.5236, -122.675], 10);\n",
        "\n",
        "      L.tileLayer('http://{s}.tile.openstreetmap.org/{z}/{x}/{y}.png', {\n",
        "          maxZoom: 18,\n",
        "          attribution: 'Map data (c) <a href=\"http://openstreetmap.org\">OpenStreetMap</a> contributors'\n",
        "      }).addTo(map);\n",
        "\n",
        "      \n",
        "\n",
        "      \n",
        "\n",
        "      \n",
        "\n",
        "      \n",
        "\n",
        "    })();\n",
        "\n",
        "  };\n",
        "\n",
        "  make_plot();\n",
        "\n",
        "</script>"
       ],
       "metadata": {},
       "output_type": "pyout",
       "prompt_number": 2,
       "text": [
        "<folium.folium.Map at 0x106e84f10>"
       ]
      }
     ],
     "prompt_number": 2
    },
    {
     "cell_type": "code",
     "collapsed": false,
     "input": [
      "stamen = folium.Map(location=[45.5236, -122.6750], tiles='Stamen Toner',\n",
      "                    zoom_start=13)\n",
      "stamen"
     ],
     "language": "python",
     "metadata": {},
     "outputs": [
      {
       "html": [
        "\n",
        "<div id=\"folium_3d9413ac49bf44ce8f6dc917be09b4be\" style=\"width: 960px; height: 500px\"></div>\n",
        "\n",
        "<script>\n",
        "\n",
        "  var make_plot = function(){\n",
        "    if (typeof L === 'undefined'){\n",
        "      window.addEventListener('leaflet_libs_loaded', make_plot)\n",
        "      return;\n",
        "    }\n",
        "\n",
        "    var render_plot = (function(){\n",
        "\n",
        "      \n",
        "\n",
        "      var map = L.map('folium_3d9413ac49bf44ce8f6dc917be09b4be').setView([45.5236, -122.675], 13);\n",
        "\n",
        "      L.tileLayer('http://{s}.tile.stamen.com/toner/{z}/{x}/{y}.jpg', {\n",
        "          maxZoom: 18,\n",
        "          attribution: 'Map tiles by <a href=\"http://stamen.com\">Stamen Design</a>, under <a href=\"http://creativecommons.org/licenses/by/3.0\">CC BY 3.0</a>. Data by <a href=\"http://openstreetmap.org\">OpenStreetMap</a>, under <a href=\"http://creativecommons.org/licenses/by-sa/3.0\">CC BY SA</a>.'\n",
        "      }).addTo(map);\n",
        "\n",
        "      \n",
        "\n",
        "      \n",
        "\n",
        "      \n",
        "\n",
        "      \n",
        "\n",
        "    })();\n",
        "\n",
        "  };\n",
        "\n",
        "  make_plot();\n",
        "\n",
        "</script>"
       ],
       "metadata": {},
       "output_type": "pyout",
       "prompt_number": 3,
       "text": [
        "<folium.folium.Map at 0x106e9a290>"
       ]
      }
     ],
     "prompt_number": 3
    },
    {
     "cell_type": "code",
     "collapsed": false,
     "input": [
      "mt_hood = folium.Map(location=[45.372, -121.6972], zoom_start=12,\n",
      "                     tiles='Stamen Terrain')\n",
      "mt_hood.simple_marker([45.3288, -121.6625], popup='Mt. Hood Meadows')\n",
      "mt_hood.simple_marker([45.3311, -121.7113], popup='Timberline Lodge')\n",
      "mt_hood"
     ],
     "language": "python",
     "metadata": {},
     "outputs": [
      {
       "html": [
        "\n",
        "<div id=\"folium_818da5dd2caf4af8975dfdc6f1745e4f\" style=\"width: 960px; height: 500px\"></div>\n",
        "\n",
        "<script>\n",
        "\n",
        "  var make_plot = function(){\n",
        "    if (typeof L === 'undefined'){\n",
        "      window.addEventListener('leaflet_libs_loaded', make_plot)\n",
        "      return;\n",
        "    }\n",
        "\n",
        "    var render_plot = (function(){\n",
        "\n",
        "      \n",
        "\n",
        "      var map = L.map('folium_818da5dd2caf4af8975dfdc6f1745e4f').setView([45.372, -121.6972], 12);\n",
        "\n",
        "      L.tileLayer('http://{s}.tile.stamen.com/terrain/{z}/{x}/{y}.jpg', {\n",
        "          maxZoom: 18,\n",
        "          attribution: 'Map tiles by <a href=\"http://stamen.com\">Stamen Design</a>, under <a href=\"http://creativecommons.org/licenses/by/3.0\">CC BY 3.0</a>. Data by <a href=\"http://openstreetmap.org\">OpenStreetMap</a>, under <a href=\"http://creativecommons.org/licenses/by-sa/3.0\">CC BY SA</a>.'\n",
        "      }).addTo(map);\n",
        "\n",
        "      \n",
        "      var marker_1 = L.marker([45.3288, -121.6625]);\n",
        "      marker_1.bindPopup(\"Mt. Hood Meadows\");\n",
        "      map.addLayer(marker_1)\n",
        "      \n",
        "      var marker_2 = L.marker([45.3311, -121.7113]);\n",
        "      marker_2.bindPopup(\"Timberline Lodge\");\n",
        "      map.addLayer(marker_2)\n",
        "      \n",
        "\n",
        "      \n",
        "\n",
        "      \n",
        "\n",
        "      \n",
        "\n",
        "    })();\n",
        "\n",
        "  };\n",
        "\n",
        "  make_plot();\n",
        "\n",
        "</script>"
       ],
       "metadata": {},
       "output_type": "pyout",
       "prompt_number": 4,
       "text": [
        "<folium.folium.Map at 0x106e9a990>"
       ]
      }
     ],
     "prompt_number": 4
    },
    {
     "cell_type": "code",
     "collapsed": false,
     "input": [
      "portland = folium.Map(location=[45.5236, -122.6750], tiles='Stamen Toner',\n",
      "                      zoom_start=13)\n",
      "portland.simple_marker(location=[45.5244, -122.6699], popup='The Waterfront')\n",
      "portland.circle_marker(location=[45.5215, -122.6261], radius=500,\n",
      "                       popup='Laurelhurst Park', line_color='#3186cc',\n",
      "                       fill_color='#3186cc')\n",
      "portland"
     ],
     "language": "python",
     "metadata": {},
     "outputs": [
      {
       "html": [
        "\n",
        "<div id=\"folium_2ec8654cc7fc4471ae53297caa7ef90a\" style=\"width: 960px; height: 500px\"></div>\n",
        "\n",
        "<script>\n",
        "\n",
        "  var make_plot = function(){\n",
        "    if (typeof L === 'undefined'){\n",
        "      window.addEventListener('leaflet_libs_loaded', make_plot)\n",
        "      return;\n",
        "    }\n",
        "\n",
        "    var render_plot = (function(){\n",
        "\n",
        "      \n",
        "\n",
        "      var map = L.map('folium_2ec8654cc7fc4471ae53297caa7ef90a').setView([45.5236, -122.675], 13);\n",
        "\n",
        "      L.tileLayer('http://{s}.tile.stamen.com/toner/{z}/{x}/{y}.jpg', {\n",
        "          maxZoom: 18,\n",
        "          attribution: 'Map tiles by <a href=\"http://stamen.com\">Stamen Design</a>, under <a href=\"http://creativecommons.org/licenses/by/3.0\">CC BY 3.0</a>. Data by <a href=\"http://openstreetmap.org\">OpenStreetMap</a>, under <a href=\"http://creativecommons.org/licenses/by-sa/3.0\">CC BY SA</a>.'\n",
        "      }).addTo(map);\n",
        "\n",
        "      \n",
        "      var marker_1 = L.marker([45.5244, -122.6699]);\n",
        "      marker_1.bindPopup(\"The Waterfront\");\n",
        "      map.addLayer(marker_1)\n",
        "      \n",
        "      var circle_1 = L.circle([45.5215, -122.6261], 500, {\n",
        "                            color: '#3186cc',\n",
        "                            fillColor: '#3186cc',\n",
        "                            fillOpacity: 0.6\n",
        "                            });\n",
        "      circle_1.bindPopup(\"Laurelhurst Park\");\n",
        "      map.addLayer(circle_1)\n",
        "      \n",
        "\n",
        "      \n",
        "\n",
        "      \n",
        "\n",
        "      \n",
        "\n",
        "    })();\n",
        "\n",
        "  };\n",
        "\n",
        "  make_plot();\n",
        "\n",
        "</script>"
       ],
       "metadata": {},
       "output_type": "pyout",
       "prompt_number": 5,
       "text": [
        "<folium.folium.Map at 0x106e9a0d0>"
       ]
      }
     ],
     "prompt_number": 5
    },
    {
     "cell_type": "code",
     "collapsed": false,
     "input": [
      "latlng = folium.Map(location=[46.1991, -122.1889], tiles='Stamen Terrain',\n",
      "                    zoom_start=13)\n",
      "latlng.lat_lng_popover()\n",
      "latlng"
     ],
     "language": "python",
     "metadata": {},
     "outputs": [
      {
       "html": [
        "\n",
        "<div id=\"folium_5e7d670c45ef4a388fa8fd2fb12a05a1\" style=\"width: 960px; height: 500px\"></div>\n",
        "\n",
        "<script>\n",
        "\n",
        "  var make_plot = function(){\n",
        "    if (typeof L === 'undefined'){\n",
        "      window.addEventListener('leaflet_libs_loaded', make_plot)\n",
        "      return;\n",
        "    }\n",
        "\n",
        "    var render_plot = (function(){\n",
        "\n",
        "      \n",
        "\n",
        "      var map = L.map('folium_5e7d670c45ef4a388fa8fd2fb12a05a1').setView([46.1991, -122.1889], 13);\n",
        "\n",
        "      L.tileLayer('http://{s}.tile.stamen.com/terrain/{z}/{x}/{y}.jpg', {\n",
        "          maxZoom: 18,\n",
        "          attribution: 'Map tiles by <a href=\"http://stamen.com\">Stamen Design</a>, under <a href=\"http://creativecommons.org/licenses/by/3.0\">CC BY 3.0</a>. Data by <a href=\"http://openstreetmap.org\">OpenStreetMap</a>, under <a href=\"http://creativecommons.org/licenses/by-sa/3.0\">CC BY SA</a>.'\n",
        "      }).addTo(map);\n",
        "\n",
        "      \n",
        "\n",
        "      \n",
        "\n",
        "      var popup = L.popup();\n",
        "\n",
        "function latLngPop(e) {\n",
        "    popup.setLatLng(e.latlng)\n",
        "         .setContent(\"Latitude: \" + e.latlng.lat.toFixed(4) +\n",
        "                     \"<br>Longitude: \" + e.latlng.lng.toFixed(4))\n",
        "         .openOn(map);\n",
        "}\n",
        "\n",
        "map.on('click', latLngPop);\n",
        "\n",
        "      \n",
        "\n",
        "    })();\n",
        "\n",
        "  };\n",
        "\n",
        "  make_plot();\n",
        "\n",
        "</script>"
       ],
       "metadata": {},
       "output_type": "pyout",
       "prompt_number": 6,
       "text": [
        "<folium.folium.Map at 0x106e9a310>"
       ]
      }
     ],
     "prompt_number": 6
    },
    {
     "cell_type": "code",
     "collapsed": false,
     "input": [
      "waypoints = folium.Map(location=[46.8527, -121.7649], tiles='Stamen Terrain',\n",
      "                       zoom_start=13)\n",
      "waypoints.simple_marker(location=[46.8354, -121.7325], popup='Camp Muir')\n",
      "waypoints.click_for_marker(popup='Waypoint')\n",
      "waypoints"
     ],
     "language": "python",
     "metadata": {},
     "outputs": [
      {
       "html": [
        "\n",
        "<div id=\"folium_36429b3821ac47ef84d7695770fffdb2\" style=\"width: 960px; height: 500px\"></div>\n",
        "\n",
        "<script>\n",
        "\n",
        "  var make_plot = function(){\n",
        "    if (typeof L === 'undefined'){\n",
        "      window.addEventListener('leaflet_libs_loaded', make_plot)\n",
        "      return;\n",
        "    }\n",
        "\n",
        "    var render_plot = (function(){\n",
        "\n",
        "      \n",
        "\n",
        "      var map = L.map('folium_36429b3821ac47ef84d7695770fffdb2').setView([46.8527, -121.7649], 13);\n",
        "\n",
        "      L.tileLayer('http://{s}.tile.stamen.com/terrain/{z}/{x}/{y}.jpg', {\n",
        "          maxZoom: 18,\n",
        "          attribution: 'Map tiles by <a href=\"http://stamen.com\">Stamen Design</a>, under <a href=\"http://creativecommons.org/licenses/by/3.0\">CC BY 3.0</a>. Data by <a href=\"http://openstreetmap.org\">OpenStreetMap</a>, under <a href=\"http://creativecommons.org/licenses/by-sa/3.0\">CC BY SA</a>.'\n",
        "      }).addTo(map);\n",
        "\n",
        "      \n",
        "      var marker_1 = L.marker([46.8354, -121.7325]);\n",
        "      marker_1.bindPopup(\"Camp Muir\");\n",
        "      map.addLayer(marker_1)\n",
        "      \n",
        "\n",
        "      \n",
        "\n",
        "      \n",
        "\n",
        "      function newMarker(e){\n",
        "    var new_mark = L.marker().setLatLng(e.latlng).addTo(map);\n",
        "    new_mark.dragging.enable();\n",
        "    new_mark.on('dblclick', function(e){map.removeLayer(e.target)})\n",
        "    var lat = e.latlng.lat.toFixed(4),\n",
        "       lng = e.latlng.lng.toFixed(4);\n",
        "    new_mark.bindPopup(\"Waypoint\");\n",
        "};\n",
        "map.on('click', newMarker)\n",
        "\n",
        "    })();\n",
        "\n",
        "  };\n",
        "\n",
        "  make_plot();\n",
        "\n",
        "</script>"
       ],
       "metadata": {},
       "output_type": "pyout",
       "prompt_number": 7,
       "text": [
        "<folium.folium.Map at 0x106e9a250>"
       ]
      }
     ],
     "prompt_number": 7
    },
    {
     "cell_type": "code",
     "collapsed": false,
     "input": [
      "polygons = folium.Map(location=[45.5236, -122.6750], zoom_start=13)\n",
      "polygons.polygon_marker(location=[45.5012, -122.6655], popup='Ross Island Bridge',\n",
      "                        fill_color='#132b5e', num_sides=3, radius=10)\n",
      "polygons.polygon_marker(location=[45.5132, -122.6708], popup='Hawthorne Bridge',\n",
      "                        fill_color='#45647d', num_sides=4, radius=10)\n",
      "polygons.polygon_marker(location=[45.5275, -122.6692], popup='Steel Bridge',\n",
      "                        fill_color='#769d96', num_sides=6, radius=10)\n",
      "polygons.polygon_marker(location=[45.5318, -122.6745], popup='Broadway Bridge',\n",
      "                        fill_color='#769d96', num_sides=8, radius=10)\n",
      "polygons"
     ],
     "language": "python",
     "metadata": {},
     "outputs": [
      {
       "html": [
        "\n",
        "<div id=\"folium_e63d7512539a468e806068e54408a11b\" style=\"width: 960px; height: 500px\"></div>\n",
        "\n",
        "<script>\n",
        "\n",
        "  var make_plot = function(){\n",
        "    if (typeof L === 'undefined'){\n",
        "      window.addEventListener('leaflet_libs_loaded', make_plot)\n",
        "      return;\n",
        "    }\n",
        "\n",
        "    var render_plot = (function(){\n",
        "\n",
        "      \n",
        "\n",
        "      var map = L.map('folium_e63d7512539a468e806068e54408a11b').setView([45.5236, -122.675], 13);\n",
        "\n",
        "      L.tileLayer('http://{s}.tile.openstreetmap.org/{z}/{x}/{y}.png', {\n",
        "          maxZoom: 18,\n",
        "          attribution: 'Map data (c) <a href=\"http://openstreetmap.org\">OpenStreetMap</a> contributors'\n",
        "      }).addTo(map);\n",
        "\n",
        "      \n",
        "      var polygon_1 = new L.RegularPolygonMarker(new L.LatLng(45.5012, -122.6655), {\n",
        "    color: 'black',\n",
        "    opacity: 1,\n",
        "    weight: 2,\n",
        "    fillColor: '#132b5e',\n",
        "    fillOpacity: 1,\n",
        "    numberOfSides: 3,\n",
        "    rotation: 0,\n",
        "    radius: 10\n",
        "});\n",
        "      polygon_1.bindPopup(\"Ross Island Bridge\");\n",
        "      map.addLayer(polygon_1)\n",
        "      \n",
        "      var polygon_2 = new L.RegularPolygonMarker(new L.LatLng(45.5132, -122.6708), {\n",
        "    color: 'black',\n",
        "    opacity: 1,\n",
        "    weight: 2,\n",
        "    fillColor: '#45647d',\n",
        "    fillOpacity: 1,\n",
        "    numberOfSides: 4,\n",
        "    rotation: 0,\n",
        "    radius: 10\n",
        "});\n",
        "      polygon_2.bindPopup(\"Hawthorne Bridge\");\n",
        "      map.addLayer(polygon_2)\n",
        "      \n",
        "      var polygon_3 = new L.RegularPolygonMarker(new L.LatLng(45.5275, -122.6692), {\n",
        "    color: 'black',\n",
        "    opacity: 1,\n",
        "    weight: 2,\n",
        "    fillColor: '#769d96',\n",
        "    fillOpacity: 1,\n",
        "    numberOfSides: 6,\n",
        "    rotation: 0,\n",
        "    radius: 10\n",
        "});\n",
        "      polygon_3.bindPopup(\"Steel Bridge\");\n",
        "      map.addLayer(polygon_3)\n",
        "      \n",
        "      var polygon_4 = new L.RegularPolygonMarker(new L.LatLng(45.5318, -122.6745), {\n",
        "    color: 'black',\n",
        "    opacity: 1,\n",
        "    weight: 2,\n",
        "    fillColor: '#769d96',\n",
        "    fillOpacity: 1,\n",
        "    numberOfSides: 8,\n",
        "    rotation: 0,\n",
        "    radius: 10\n",
        "});\n",
        "      polygon_4.bindPopup(\"Broadway Bridge\");\n",
        "      map.addLayer(polygon_4)\n",
        "      \n",
        "\n",
        "      \n",
        "\n",
        "      \n",
        "\n",
        "      \n",
        "\n",
        "    })();\n",
        "\n",
        "  };\n",
        "\n",
        "  make_plot();\n",
        "\n",
        "</script>"
       ],
       "metadata": {},
       "output_type": "pyout",
       "prompt_number": 8,
       "text": [
        "<folium.folium.Map at 0x106f2ca50>"
       ]
      }
     ],
     "prompt_number": 8
    },
    {
     "cell_type": "code",
     "collapsed": false,
     "input": [
      "import vincent\n",
      "NOAA_46041 = pd.read_csv(r'NOAA_46041.csv', index_col=3,\n",
      "                         parse_dates=True)\n",
      "NOAA_46050 = pd.read_csv(r'NOAA_46050_WS.csv', index_col=3,\n",
      "                         parse_dates=True)\n",
      "NOAA_46243 = pd.read_csv(r'NOAA_46243.csv', index_col=3,\n",
      "                         parse_dates=True)\n",
      "\n",
      "NOAA_46041 = NOAA_46041.dropna()\n",
      "\n",
      "#Binned wind speeds for NOAA 46050\n",
      "bins = range(0, 13, 1)\n",
      "cuts = pd.cut(NOAA_46050['wind_speed_cwind (m/s)'], bins)\n",
      "ws_binned = pd.value_counts(cuts).reindex(cuts.levels)\n",
      "\n",
      "#NOAA 46401 Wave Period\n",
      "vis1 = vincent.Line(NOAA_46041['dominant_wave_period (s)'],\n",
      "                    width=400, height=200)\n",
      "vis1.axis_titles(x='Time', y='Dominant Wave Period (s)')\n",
      "vis1.to_json('vis1.json')\n",
      "\n",
      "#NOAA 46050 Binned Wind Speed\n",
      "vis2 = vincent.Bar(ws_binned, width=400, height=200)\n",
      "vis2.axis_titles(x='Wind Speed (m/s)', y='# of Obs')\n",
      "vis2.to_json('vis2.json')\n",
      "\n",
      "#NOAA 46243 Wave Height\n",
      "vis3 = vincent.Area(NOAA_46243['significant_wave_height (m)'],\n",
      "                    width=400, height=200)\n",
      "vis3.axis_titles(x='Time', y='Significant Wave Height (m)')\n",
      "vis3.to_json('vis3.json')\n",
      "\n",
      "#Map all buoys\n",
      "buoy_map = folium.Map(location=[46.3014, -123.7390], zoom_start=7,\n",
      "                      tiles='Stamen Terrain')\n",
      "buoy_map.polygon_marker(location=[47.3489, -124.708], fill_color='#43d9de',\n",
      "                        radius=12, popup=(vis1, 'vis1.json'))\n",
      "buoy_map.polygon_marker(location=[44.639, -124.5339], fill_color='#43d9de',\n",
      "                        radius=12, popup=(vis2, 'vis2.json'))\n",
      "buoy_map.polygon_marker(location=[46.216, -124.1280], fill_color='#43d9de',\n",
      "                        radius=12, popup=(vis3, 'vis3.json'))\n",
      "buoy_map.create_map(path='NOAA_buoys.html')\n",
      "buoy_map.render_iframe = True\n",
      "buoy_map"
     ],
     "language": "python",
     "metadata": {},
     "outputs": [
      {
       "html": [
        "<iframe class=\"folium-iframe\" src=\"files/NOAA_buoys.html\" style=\"width: 960px; height: 500px; border: none; margin-left: 75px;\" scrolling=\"no\"></iframe>"
       ],
       "metadata": {},
       "output_type": "pyout",
       "prompt_number": 15,
       "text": [
        "<folium.folium.Map at 0x106f48150>"
       ]
      }
     ],
     "prompt_number": 15
    },
    {
     "cell_type": "code",
     "collapsed": false,
     "input": [
      "state_geo = r'us-states.json'\n",
      "state_unemployment = r'US_Unemployment_Oct2012.csv'\n",
      "\n",
      "state_data = pd.read_csv(state_unemployment)\n",
      "\n",
      "#Let Folium determine the scale\n",
      "states = folium.Map(location=[48, -102], zoom_start=3)\n",
      "states.geo_json(geo_path=state_geo, data=state_data,\n",
      "                columns=['State', 'Unemployment'],\n",
      "                key_on='feature.id',\n",
      "                fill_color='YlGn', fill_opacity=0.7, line_opacity=0.2,\n",
      "                legend_name='Unemployment Rate (%)')\n",
      "states.create_map(path='us_state_map.html')\n",
      "states"
     ],
     "language": "python",
     "metadata": {},
     "outputs": [
      {
       "html": [
        "<iframe class=\"folium-iframe\" src=\"files/us_state_map.html\" style=\"width: 960px; height: 500px; border: none; margin-left: 75px;\" scrolling=\"no\"></iframe>"
       ],
       "metadata": {},
       "output_type": "pyout",
       "prompt_number": 10,
       "text": [
        "<folium.folium.Map at 0x106f2c810>"
       ]
      }
     ],
     "prompt_number": 10
    },
    {
     "cell_type": "code",
     "collapsed": false,
     "input": [
      "states2 = folium.Map(location=[48, -102], zoom_start=3)\n",
      "states2.geo_json(geo_path=state_geo, data=state_data,\n",
      "                 columns=['State', 'Unemployment'],\n",
      "                 threshold_scale=[5, 6, 7, 8, 9, 10],\n",
      "                 key_on='feature.id',\n",
      "                 fill_color='BuPu', fill_opacity=0.7, line_opacity=0.5,\n",
      "                 legend_name='Unemployment Rate (%)',\n",
      "                 reset=True)\n",
      "states2.create_map(path='us_state_map_2.html')\n",
      "states2"
     ],
     "language": "python",
     "metadata": {},
     "outputs": [
      {
       "html": [
        "<iframe class=\"folium-iframe\" src=\"files/us_state_map_2.html\" style=\"width: 960px; height: 500px; border: none; margin-left: 75px;\" scrolling=\"no\"></iframe>"
       ],
       "metadata": {},
       "output_type": "pyout",
       "prompt_number": 11,
       "text": [
        "<folium.folium.Map at 0x106f94c50>"
       ]
      }
     ],
     "prompt_number": 11
    },
    {
     "cell_type": "code",
     "collapsed": false,
     "input": [
      "county_data = r'us_county_data.csv'\n",
      "county_geo = r'us_counties_20m_topo.json'\n",
      "\n",
      "#Read into Dataframe, cast to string for consistency\n",
      "df = pd.read_csv(county_data, na_values=[' '])\n",
      "df['FIPS_Code'] = df['FIPS_Code'].astype(str)\n",
      "\n",
      "\n",
      "def set_id(fips):\n",
      "    '''Modify FIPS code to match GeoJSON property'''\n",
      "    if fips == '0':\n",
      "        return None\n",
      "    elif len(fips) <= 4:\n",
      "        return ''.join(['0500000US0', fips])\n",
      "    else:\n",
      "        return ''.join(['0500000US', fips])\n",
      "\n",
      "#Apply set_id, drop NaN\n",
      "df['GEO_ID'] = df['FIPS_Code'].apply(set_id)\n",
      "df = df.dropna()\n",
      "\n",
      "#Number of employed with auto scale\n",
      "map_1 = folium.Map(location=[48, -102], zoom_start=3)\n",
      "map_1.geo_json(geo_path=county_geo, data_out='data1.json', data=df,\n",
      "               columns=['GEO_ID', 'Employed_2011'],\n",
      "               key_on='feature.id',\n",
      "               fill_color='YlOrRd', fill_opacity=0.7, line_opacity=0.3,\n",
      "               topojson='objects.us_counties_20m')\n",
      "map_1.create_map(path='map_1.html')\n",
      "map_1"
     ],
     "language": "python",
     "metadata": {},
     "outputs": [
      {
       "html": [
        "<iframe class=\"folium-iframe\" src=\"files/map_1.html\" style=\"width: 960px; height: 500px; border: none; margin-left: 75px;\" scrolling=\"no\"></iframe>"
       ],
       "metadata": {},
       "output_type": "pyout",
       "prompt_number": 12,
       "text": [
        "<folium.folium.Map at 0x106f992d0>"
       ]
      }
     ],
     "prompt_number": 12
    },
    {
     "cell_type": "code",
     "collapsed": false,
     "input": [
      "map_2 = folium.Map(location=[40, -99], zoom_start=4)\n",
      "map_2.geo_json(geo_path=county_geo, data_out='data2.json', data=df,\n",
      "               columns=['GEO_ID', 'Unemployment_rate_2011'],\n",
      "               key_on='feature.id',\n",
      "               threshold_scale=[0, 5, 7, 9, 11, 13],\n",
      "               fill_color='YlGnBu', line_opacity=0.3,\n",
      "               legend_name='Unemployment Rate 2011 (%)',\n",
      "               topojson='objects.us_counties_20m')\n",
      "map_2.create_map(path='map_2.html')\n",
      "map_2"
     ],
     "language": "python",
     "metadata": {},
     "outputs": [
      {
       "html": [
        "<iframe class=\"folium-iframe\" src=\"files/map_2.html\" style=\"width: 960px; height: 500px; border: none; margin-left: 75px;\" scrolling=\"no\"></iframe>"
       ],
       "metadata": {},
       "output_type": "pyout",
       "prompt_number": 13,
       "text": [
        "<folium.folium.Map at 0x106e9a890>"
       ]
      }
     ],
     "prompt_number": 13
    },
    {
     "cell_type": "code",
     "collapsed": false,
     "input": [
      "map_3 = folium.Map(location=[40, -99], zoom_start=4)\n",
      "map_3.geo_json(geo_path=county_geo, data_out='data3.json', data=df,\n",
      "               columns=['GEO_ID', 'Median_Household_Income_2011'],\n",
      "               key_on='feature.id',\n",
      "               fill_color='PuRd', line_opacity=0.3,\n",
      "               legend_name='Median Household Income 2011 ($)',\n",
      "               topojson='objects.us_counties_20m')\n",
      "map_3.create_map(path='map_3.html')\n",
      "map_3"
     ],
     "language": "python",
     "metadata": {},
     "outputs": [
      {
       "html": [
        "<iframe class=\"folium-iframe\" src=\"files/map_3.html\" style=\"width: 960px; height: 500px; border: none; margin-left: 75px;\" scrolling=\"no\"></iframe>"
       ],
       "metadata": {},
       "output_type": "pyout",
       "prompt_number": 14,
       "text": [
        "<folium.folium.Map at 0x106f94210>"
       ]
      }
     ],
     "prompt_number": 14
    }
   ],
   "metadata": {}
  }
 ]
}