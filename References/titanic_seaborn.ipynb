{
 "metadata": {
  "name": "",
  "signature": "sha256:f91f264ce7bc2f0ca7cc266edd423f056336b41ed451c00c01beef7bb45c30ed"
 },
 "nbformat": 3,
 "nbformat_minor": 0,
 "worksheets": [
  {
   "cells": [
    {
     "cell_type": "heading",
     "level": 1,
     "metadata": {},
     "source": [
      "Exploring the *Titanic* dataset with `seaborn`"
     ]
    },
    {
     "cell_type": "markdown",
     "metadata": {},
     "source": [
      "<div style=\"width:100%; text-align:center\">\n",
      "<img src=http://blogs.westword.com/showandtell/titanic.jpg width=500px>\n",
      "</div>"
     ]
    },
    {
     "cell_type": "markdown",
     "metadata": {},
     "source": [
      "Kaggle has a nice [dataset](https://www.kaggle.com/c/titanic-gettingStarted) with information about passengers on the *Titanic*. It's meant as an introduction to predictive models -- here, predicting who survived the sinking. Let's explore it using [seaborn](http://stanford.edu/~mwaskom/software/seaborn/). This notebook mostly demonstrates features in development for version 0.3. Please [get in touch](https://github.com/mwaskom/seaborn/issues/new) if you have ideas for how they could be improved."
     ]
    },
    {
     "cell_type": "code",
     "collapsed": false,
     "input": [
      "import numpy as np\n",
      "import pandas as pd\n",
      "import seaborn as sns\n",
      "sns.set(style=\"nogrid\")"
     ],
     "language": "python",
     "metadata": {},
     "outputs": [
      {
       "output_type": "stream",
       "stream": "stderr",
       "text": [
        "C:\\Anaconda\\lib\\site-packages\\seaborn\\rcmod.py:178: UserWarning: The 'nogrid' style is now named 'white'. Please update your code\n",
        "  \"Please update your code\", UserWarning)\n"
       ]
      }
     ],
     "prompt_number": 1
    },
    {
     "cell_type": "markdown",
     "metadata": {},
     "source": [
      "First we load in the data and take a look"
     ]
    },
    {
     "cell_type": "code",
     "collapsed": false,
     "input": [
      "url = \"https://raw.github.com/mattdelhey/kaggle-titanic/master/Data/train.csv\"\n",
      "titanic = pd.read_csv(url)\n",
      "titanic.info()"
     ],
     "language": "python",
     "metadata": {},
     "outputs": [
      {
       "output_type": "stream",
       "stream": "stdout",
       "text": [
        "<class 'pandas.core.frame.DataFrame'>\n",
        "Int64Index: 891 entries, 0 to 890\n",
        "Data columns (total 11 columns):\n",
        "survived    891 non-null int64\n",
        "pclass      891 non-null int64\n",
        "name        891 non-null object\n",
        "sex         891 non-null object\n",
        "age         714 non-null float64\n",
        "sibsp       891 non-null int64\n",
        "parch       891 non-null int64\n",
        "ticket      891 non-null object\n",
        "fare        891 non-null float64\n",
        "cabin       204 non-null object\n",
        "embarked    889 non-null object\n",
        "dtypes: float64(2), int64(4), object(5)"
       ]
      }
     ],
     "prompt_number": 2
    },
    {
     "cell_type": "code",
     "collapsed": false,
     "input": [
      "titanic.head()"
     ],
     "language": "python",
     "metadata": {},
     "outputs": [
      {
       "html": [
        "<div style=\"max-height:1000px;max-width:1500px;overflow:auto;\">\n",
        "<table border=\"1\" class=\"dataframe\">\n",
        "  <thead>\n",
        "    <tr style=\"text-align: right;\">\n",
        "      <th></th>\n",
        "      <th>survived</th>\n",
        "      <th>pclass</th>\n",
        "      <th>name</th>\n",
        "      <th>sex</th>\n",
        "      <th>age</th>\n",
        "      <th>sibsp</th>\n",
        "      <th>parch</th>\n",
        "      <th>ticket</th>\n",
        "      <th>fare</th>\n",
        "      <th>cabin</th>\n",
        "      <th>embarked</th>\n",
        "    </tr>\n",
        "  </thead>\n",
        "  <tbody>\n",
        "    <tr>\n",
        "      <th>0</th>\n",
        "      <td> 0</td>\n",
        "      <td> 3</td>\n",
        "      <td>                           Braund, Mr. Owen Harris</td>\n",
        "      <td>   male</td>\n",
        "      <td> 22</td>\n",
        "      <td> 1</td>\n",
        "      <td> 0</td>\n",
        "      <td>        A/5 21171</td>\n",
        "      <td>  7.2500</td>\n",
        "      <td>  NaN</td>\n",
        "      <td> S</td>\n",
        "    </tr>\n",
        "    <tr>\n",
        "      <th>1</th>\n",
        "      <td> 1</td>\n",
        "      <td> 1</td>\n",
        "      <td> Cumings, Mrs. John Bradley (Florence Briggs Th...</td>\n",
        "      <td> female</td>\n",
        "      <td> 38</td>\n",
        "      <td> 1</td>\n",
        "      <td> 0</td>\n",
        "      <td>         PC 17599</td>\n",
        "      <td> 71.2833</td>\n",
        "      <td>  C85</td>\n",
        "      <td> C</td>\n",
        "    </tr>\n",
        "    <tr>\n",
        "      <th>2</th>\n",
        "      <td> 1</td>\n",
        "      <td> 3</td>\n",
        "      <td>                            Heikkinen, Miss. Laina</td>\n",
        "      <td> female</td>\n",
        "      <td> 26</td>\n",
        "      <td> 0</td>\n",
        "      <td> 0</td>\n",
        "      <td> STON/O2. 3101282</td>\n",
        "      <td>  7.9250</td>\n",
        "      <td>  NaN</td>\n",
        "      <td> S</td>\n",
        "    </tr>\n",
        "    <tr>\n",
        "      <th>3</th>\n",
        "      <td> 1</td>\n",
        "      <td> 1</td>\n",
        "      <td>      Futrelle, Mrs. Jacques Heath (Lily May Peel)</td>\n",
        "      <td> female</td>\n",
        "      <td> 35</td>\n",
        "      <td> 1</td>\n",
        "      <td> 0</td>\n",
        "      <td>           113803</td>\n",
        "      <td> 53.1000</td>\n",
        "      <td> C123</td>\n",
        "      <td> S</td>\n",
        "    </tr>\n",
        "    <tr>\n",
        "      <th>4</th>\n",
        "      <td> 0</td>\n",
        "      <td> 3</td>\n",
        "      <td>                          Allen, Mr. William Henry</td>\n",
        "      <td>   male</td>\n",
        "      <td> 35</td>\n",
        "      <td> 0</td>\n",
        "      <td> 0</td>\n",
        "      <td>           373450</td>\n",
        "      <td>  8.0500</td>\n",
        "      <td>  NaN</td>\n",
        "      <td> S</td>\n",
        "    </tr>\n",
        "  </tbody>\n",
        "</table>\n",
        "<p>5 rows \u00d7 11 columns</p>\n",
        "</div>"
       ],
       "metadata": {},
       "output_type": "pyout",
       "prompt_number": 3,
       "text": [
        "   survived  pclass                                               name  \\\n",
        "0         0       3                            Braund, Mr. Owen Harris   \n",
        "1         1       1  Cumings, Mrs. John Bradley (Florence Briggs Th...   \n",
        "2         1       3                             Heikkinen, Miss. Laina   \n",
        "3         1       1       Futrelle, Mrs. Jacques Heath (Lily May Peel)   \n",
        "4         0       3                           Allen, Mr. William Henry   \n",
        "\n",
        "      sex  age  sibsp  parch            ticket     fare cabin embarked  \n",
        "0    male   22      1      0         A/5 21171   7.2500   NaN        S  \n",
        "1  female   38      1      0          PC 17599  71.2833   C85        C  \n",
        "2  female   26      0      0  STON/O2. 3101282   7.9250   NaN        S  \n",
        "3  female   35      1      0            113803  53.1000  C123        S  \n",
        "4    male   35      0      0            373450   8.0500   NaN        S  \n",
        "\n",
        "[5 rows x 11 columns]"
       ]
      }
     ],
     "prompt_number": 3
    },
    {
     "cell_type": "markdown",
     "metadata": {},
     "source": [
      "Let's do  little bit of processing to make some different variables that might be more interesting to plot. Since this notebook is focused on visualization, we're going to do this without much comment."
     ]
    },
    {
     "cell_type": "code",
     "collapsed": false,
     "input": [
      "def woman_child_or_man(passenger):\n",
      "    age, sex = passenger\n",
      "    if age < 16:\n",
      "        return \"child\"\n",
      "    else:\n",
      "        return dict(male=\"man\", female=\"woman\")[sex]"
     ],
     "language": "python",
     "metadata": {},
     "outputs": [],
     "prompt_number": 4
    },
    {
     "cell_type": "code",
     "collapsed": false,
     "input": [
      "titanic[\"class\"] = titanic.pclass.map({1: \"First\", 2: \"Second\", 3: \"Third\"})\n",
      "titanic[\"who\"] = titanic[[\"age\", \"sex\"]].apply(woman_child_or_man, axis=1)\n",
      "titanic[\"adult_male\"] = titanic.who == \"man\"\n",
      "titanic[\"deck\"] = titanic.cabin.str[0].map(lambda s: np.nan if s == \"T\" else s)\n",
      "titanic[\"embark_town\"] = titanic.embarked.map({\"C\": \"Cherbourg\", \"Q\": \"Queenstown\", \"S\": \"Southampton\"})\n",
      "titanic[\"alive\"] = titanic.survived.map({0: \"no\", 1: \"yes\"})\n",
      "titanic[\"alone\"] = ~(titanic.parch + titanic.sibsp).astype(bool)\n",
      "titanic = titanic.drop([\"name\", \"ticket\", \"cabin\"], axis=1)"
     ],
     "language": "python",
     "metadata": {},
     "outputs": [],
     "prompt_number": 5
    },
    {
     "cell_type": "code",
     "collapsed": false,
     "input": [
      "titanic.head()"
     ],
     "language": "python",
     "metadata": {},
     "outputs": [
      {
       "html": [
        "<div style=\"max-height:1000px;max-width:1500px;overflow:auto;\">\n",
        "<table border=\"1\" class=\"dataframe\">\n",
        "  <thead>\n",
        "    <tr style=\"text-align: right;\">\n",
        "      <th></th>\n",
        "      <th>survived</th>\n",
        "      <th>pclass</th>\n",
        "      <th>sex</th>\n",
        "      <th>age</th>\n",
        "      <th>sibsp</th>\n",
        "      <th>parch</th>\n",
        "      <th>fare</th>\n",
        "      <th>embarked</th>\n",
        "      <th>class</th>\n",
        "      <th>who</th>\n",
        "      <th>adult_male</th>\n",
        "      <th>deck</th>\n",
        "      <th>embark_town</th>\n",
        "      <th>alive</th>\n",
        "      <th>alone</th>\n",
        "    </tr>\n",
        "  </thead>\n",
        "  <tbody>\n",
        "    <tr>\n",
        "      <th>0</th>\n",
        "      <td> 0</td>\n",
        "      <td> 3</td>\n",
        "      <td>   male</td>\n",
        "      <td> 22</td>\n",
        "      <td> 1</td>\n",
        "      <td> 0</td>\n",
        "      <td>  7.2500</td>\n",
        "      <td> S</td>\n",
        "      <td> Third</td>\n",
        "      <td>   man</td>\n",
        "      <td>  True</td>\n",
        "      <td> NaN</td>\n",
        "      <td> Southampton</td>\n",
        "      <td>  no</td>\n",
        "      <td> False</td>\n",
        "    </tr>\n",
        "    <tr>\n",
        "      <th>1</th>\n",
        "      <td> 1</td>\n",
        "      <td> 1</td>\n",
        "      <td> female</td>\n",
        "      <td> 38</td>\n",
        "      <td> 1</td>\n",
        "      <td> 0</td>\n",
        "      <td> 71.2833</td>\n",
        "      <td> C</td>\n",
        "      <td> First</td>\n",
        "      <td> woman</td>\n",
        "      <td> False</td>\n",
        "      <td>   C</td>\n",
        "      <td>   Cherbourg</td>\n",
        "      <td> yes</td>\n",
        "      <td> False</td>\n",
        "    </tr>\n",
        "    <tr>\n",
        "      <th>2</th>\n",
        "      <td> 1</td>\n",
        "      <td> 3</td>\n",
        "      <td> female</td>\n",
        "      <td> 26</td>\n",
        "      <td> 0</td>\n",
        "      <td> 0</td>\n",
        "      <td>  7.9250</td>\n",
        "      <td> S</td>\n",
        "      <td> Third</td>\n",
        "      <td> woman</td>\n",
        "      <td> False</td>\n",
        "      <td> NaN</td>\n",
        "      <td> Southampton</td>\n",
        "      <td> yes</td>\n",
        "      <td>  True</td>\n",
        "    </tr>\n",
        "    <tr>\n",
        "      <th>3</th>\n",
        "      <td> 1</td>\n",
        "      <td> 1</td>\n",
        "      <td> female</td>\n",
        "      <td> 35</td>\n",
        "      <td> 1</td>\n",
        "      <td> 0</td>\n",
        "      <td> 53.1000</td>\n",
        "      <td> S</td>\n",
        "      <td> First</td>\n",
        "      <td> woman</td>\n",
        "      <td> False</td>\n",
        "      <td>   C</td>\n",
        "      <td> Southampton</td>\n",
        "      <td> yes</td>\n",
        "      <td> False</td>\n",
        "    </tr>\n",
        "    <tr>\n",
        "      <th>4</th>\n",
        "      <td> 0</td>\n",
        "      <td> 3</td>\n",
        "      <td>   male</td>\n",
        "      <td> 35</td>\n",
        "      <td> 0</td>\n",
        "      <td> 0</td>\n",
        "      <td>  8.0500</td>\n",
        "      <td> S</td>\n",
        "      <td> Third</td>\n",
        "      <td>   man</td>\n",
        "      <td>  True</td>\n",
        "      <td> NaN</td>\n",
        "      <td> Southampton</td>\n",
        "      <td>  no</td>\n",
        "      <td>  True</td>\n",
        "    </tr>\n",
        "  </tbody>\n",
        "</table>\n",
        "<p>5 rows \u00d7 15 columns</p>\n",
        "</div>"
       ],
       "metadata": {},
       "output_type": "pyout",
       "prompt_number": 6,
       "text": [
        "   survived  pclass     sex  age  sibsp  parch     fare embarked  class  \\\n",
        "0         0       3    male   22      1      0   7.2500        S  Third   \n",
        "1         1       1  female   38      1      0  71.2833        C  First   \n",
        "2         1       3  female   26      0      0   7.9250        S  Third   \n",
        "3         1       1  female   35      1      0  53.1000        S  First   \n",
        "4         0       3    male   35      0      0   8.0500        S  Third   \n",
        "\n",
        "     who adult_male deck  embark_town alive  alone  \n",
        "0    man       True  NaN  Southampton    no  False  \n",
        "1  woman      False    C    Cherbourg   yes  False  \n",
        "2  woman      False  NaN  Southampton   yes   True  \n",
        "3  woman      False    C  Southampton   yes  False  \n",
        "4    man       True  NaN  Southampton    no   True  \n",
        "\n",
        "[5 rows x 15 columns]"
       ]
      }
     ],
     "prompt_number": 6
    },
    {
     "cell_type": "markdown",
     "metadata": {},
     "source": [
      "Finally set up a palette dictionary for some of the plots."
     ]
    },
    {
     "cell_type": "code",
     "collapsed": false,
     "input": [
      "pal = dict(man=\"#4682B4\", woman=\"#CD5C5C\", child=\"#2E8B57\", male=\"#6495ED\", female=\"#F08080\")"
     ],
     "language": "python",
     "metadata": {},
     "outputs": [],
     "prompt_number": 7
    },
    {
     "cell_type": "heading",
     "level": 2,
     "metadata": {},
     "source": [
      "Who were the *Titanic* passengers?"
     ]
    },
    {
     "cell_type": "markdown",
     "metadata": {},
     "source": [
      "Before getting to the main question (who survived), let's take a look at the dataset to get a sense for how the observations are distributed into the different levels of our factors of interest."
     ]
    },
    {
     "cell_type": "heading",
     "level": 3,
     "metadata": {},
     "source": [
      "How many men, women, and children are in our sample?"
     ]
    },
    {
     "cell_type": "markdown",
     "metadata": {},
     "source": [
      "First let's count the number of males and females, ignoring age."
     ]
    },
    {
     "cell_type": "code",
     "collapsed": false,
     "input": [
      "sns.factorplot(\"sex\", data=titanic, palette=pal);"
     ],
     "language": "python",
     "metadata": {},
     "outputs": [],
     "prompt_number": 8
    },
    {
     "cell_type": "markdown",
     "metadata": {},
     "source": [
      "Then we can look at how this is distributed into the three classes."
     ]
    },
    {
     "cell_type": "code",
     "collapsed": false,
     "input": [
      "sns.factorplot(\"class\", data=titanic, hue=\"sex\", palette=pal);"
     ],
     "language": "python",
     "metadata": {},
     "outputs": [],
     "prompt_number": 9
    },
    {
     "cell_type": "markdown",
     "metadata": {},
     "source": [
      "We also have a separate classification that splits off children (recall, this is going to be relevant because of the \"women and children first\" policy followed during the evacuation)."
     ]
    },
    {
     "cell_type": "code",
     "collapsed": false,
     "input": [
      "sns.factorplot(\"who\", data=titanic, palette=pal);"
     ],
     "language": "python",
     "metadata": {},
     "outputs": [],
     "prompt_number": 10
    },
    {
     "cell_type": "code",
     "collapsed": false,
     "input": [
      "sns.factorplot(\"class\", data=titanic, hue=\"who\", palette=pal);"
     ],
     "language": "python",
     "metadata": {},
     "outputs": [],
     "prompt_number": 11
    },
    {
     "cell_type": "markdown",
     "metadata": {},
     "source": [
      "Finally, we made a variable that indicates whether a passanger was an adult male."
     ]
    },
    {
     "cell_type": "code",
     "collapsed": false,
     "input": [
      "sns.factorplot(\"adult_male\", data=titanic, palette=\"Blues\");"
     ],
     "language": "python",
     "metadata": {},
     "outputs": [],
     "prompt_number": 12
    },
    {
     "cell_type": "code",
     "collapsed": false,
     "input": [
      "sns.factorplot(\"class\", data=titanic, hue=\"adult_male\", palette=\"Blues\");"
     ],
     "language": "python",
     "metadata": {},
     "outputs": [],
     "prompt_number": 13
    },
    {
     "cell_type": "markdown",
     "metadata": {},
     "source": [
      "Next let's look at the distribution of ages within the groups we defined above."
     ]
    },
    {
     "cell_type": "code",
     "collapsed": false,
     "input": [
      "fg = sns.FacetGrid(titanic, hue=\"sex\", aspect=3, palette=pal)\n",
      "fg.map(sns.kdeplot, \"age\", shade=True)\n",
      "fg.set(xlim=(0, 80));"
     ],
     "language": "python",
     "metadata": {},
     "outputs": [],
     "prompt_number": 14
    },
    {
     "cell_type": "code",
     "collapsed": false,
     "input": [
      "fg = sns.FacetGrid(titanic, hue=\"who\", aspect=3, palette=pal)\n",
      "fg.map(sns.kdeplot, \"age\", shade=True)\n",
      "fg.set(xlim=(0, 80));"
     ],
     "language": "python",
     "metadata": {},
     "outputs": [],
     "prompt_number": 15
    },
    {
     "cell_type": "heading",
     "level": 3,
     "metadata": {},
     "source": [
      "How many first, second, and third class passengers are in our sample?"
     ]
    },
    {
     "cell_type": "markdown",
     "metadata": {},
     "source": [
      "Although have some information about the distribution into classes from the sex plots, let's directly visualize it an then see how the classes break down by age."
     ]
    },
    {
     "cell_type": "code",
     "collapsed": false,
     "input": [
      "sns.factorplot(\"class\", data=titanic, palette=\"BuPu_d\");"
     ],
     "language": "python",
     "metadata": {},
     "outputs": [],
     "prompt_number": 16
    },
    {
     "cell_type": "code",
     "collapsed": false,
     "input": [
      "fg = sns.FacetGrid(titanic, hue=\"class\", aspect=3, palette=\"BuPu_d\")\n",
      "fg.map(sns.kdeplot, \"age\", shade=True)\n",
      "fg.set(xlim=(0, 80));"
     ],
     "language": "python",
     "metadata": {},
     "outputs": [],
     "prompt_number": 17
    },
    {
     "cell_type": "markdown",
     "metadata": {},
     "source": [
      "Finally let's look at the breakdown by age and sex."
     ]
    },
    {
     "cell_type": "code",
     "collapsed": false,
     "input": [
      "fg = sns.FacetGrid(titanic, col=\"sex\", row=\"class\", hue=\"sex\", size=2.5, aspect=2.5, palette=pal)\n",
      "fg.map(sns.kdeplot, \"age\", shade=True)\n",
      "fg.map(sns.rugplot, \"age\")\n",
      "sns.despine(left=True)\n",
      "fg.set(xlim=(0, 80));"
     ],
     "language": "python",
     "metadata": {},
     "outputs": [],
     "prompt_number": 18
    },
    {
     "cell_type": "heading",
     "level": 3,
     "metadata": {},
     "source": [
      "Where were our passenger's cabins?"
     ]
    },
    {
     "cell_type": "markdown",
     "metadata": {},
     "source": [
      "We also have information about what deck each passgener's cabin was on, which may be relevant."
     ]
    },
    {
     "cell_type": "code",
     "collapsed": false,
     "input": [
      "sns.factorplot(\"deck\", data=titanic, palette=\"PuBu_d\");"
     ],
     "language": "python",
     "metadata": {},
     "outputs": [],
     "prompt_number": 19
    },
    {
     "cell_type": "markdown",
     "metadata": {},
     "source": [
      "How did the decks break down by class for the passengers we have data about?"
     ]
    },
    {
     "cell_type": "code",
     "collapsed": false,
     "input": [
      "sns.factorplot(\"deck\", hue=\"class\", data=titanic, palette=\"BuPu_d\");"
     ],
     "language": "python",
     "metadata": {},
     "outputs": [],
     "prompt_number": 20
    },
    {
     "cell_type": "markdown",
     "metadata": {},
     "source": [
      "Note that we're missing a lot of deck data for the second and third class passengers, which will be important to keep in mind later."
     ]
    },
    {
     "cell_type": "heading",
     "level": 3,
     "metadata": {},
     "source": [
      "How much did they pay for their tickets?"
     ]
    },
    {
     "cell_type": "markdown",
     "metadata": {},
     "source": [
      "Since we have data about fares, let's see how those broke down by classes."
     ]
    },
    {
     "cell_type": "code",
     "collapsed": false,
     "input": [
      "from seaborn import linearmodels\n",
      "reload(linearmodels)\n",
      "reload(sns)\n",
      "sns.set(style=\"nogrid\")"
     ],
     "language": "python",
     "metadata": {},
     "outputs": [],
     "prompt_number": 21
    },
    {
     "cell_type": "code",
     "collapsed": false,
     "input": [
      "sns.factorplot(\"class\", \"fare\", data=titanic, palette=\"BuPu_d\");"
     ],
     "language": "python",
     "metadata": {},
     "outputs": [],
     "prompt_number": 22
    },
    {
     "cell_type": "code",
     "collapsed": false,
     "input": [
      "sns.violinplot(titanic[\"fare\"], titanic[\"class\"], color=\"BuPu_d\").set_ylim(0, 600)\n",
      "sns.despine(left=True);"
     ],
     "language": "python",
     "metadata": {},
     "outputs": [],
     "prompt_number": 23
    },
    {
     "cell_type": "markdown",
     "metadata": {},
     "source": [
      "There are some extreme outliers in the first class distribution; let's winsorize those to get a better sense for how much each class paid."
     ]
    },
    {
     "cell_type": "code",
     "collapsed": false,
     "input": [
      "titanic[\"fare_winsor\"] = titanic.fare.map(lambda f: min(f, 200))"
     ],
     "language": "python",
     "metadata": {},
     "outputs": [],
     "prompt_number": 24
    },
    {
     "cell_type": "code",
     "collapsed": false,
     "input": [
      "sns.violinplot(titanic[\"fare_winsor\"], titanic[\"class\"], color=\"BuPu_d\").set_ylim(0, 250)\n",
      "sns.despine(left=True);"
     ],
     "language": "python",
     "metadata": {},
     "outputs": [],
     "prompt_number": 25
    },
    {
     "cell_type": "markdown",
     "metadata": {},
     "source": [
      "How did the fares break down by deck? Let's look both at the mean and the distribution."
     ]
    },
    {
     "cell_type": "code",
     "collapsed": false,
     "input": [
      "sns.factorplot(\"deck\", \"fare\", data=titanic, palette=\"PuBu_d\");"
     ],
     "language": "python",
     "metadata": {},
     "outputs": [],
     "prompt_number": 26
    },
    {
     "cell_type": "code",
     "collapsed": false,
     "input": [
      "sns.violinplot(titanic[\"fare_winsor\"], titanic[\"deck\"], color=\"PuBu_d\")\n",
      "sns.despine(left=True);"
     ],
     "language": "python",
     "metadata": {},
     "outputs": [],
     "prompt_number": 27
    },
    {
     "cell_type": "markdown",
     "metadata": {},
     "source": [
      "It might make more sense to plot the median fare, since the distributions aren't normal."
     ]
    },
    {
     "cell_type": "code",
     "collapsed": false,
     "input": [
      "sns.factorplot(\"deck\", \"fare\", data=titanic, palette=\"PuBu_d\", estimator=np.median);"
     ],
     "language": "python",
     "metadata": {},
     "outputs": [],
     "prompt_number": 28
    },
    {
     "cell_type": "markdown",
     "metadata": {},
     "source": [
      "We can also look at a regression of fare on age to see if older passengers paid more. We'll use robust methods here too, which will accound for the skewed distribution on fare."
     ]
    },
    {
     "cell_type": "code",
     "collapsed": false,
     "input": [
      "sns.regplot(\"age\", \"fare\", data=titanic, robust=True, ci=None, color=\"seagreen\")\n",
      "sns.despine();"
     ],
     "language": "python",
     "metadata": {},
     "outputs": [],
     "prompt_number": 29
    },
    {
     "cell_type": "heading",
     "level": 3,
     "metadata": {},
     "source": [
      "Where did the passengers come from?"
     ]
    },
    {
     "cell_type": "markdown",
     "metadata": {},
     "source": [
      "The *Titanic* passengers embarked at one of three ports before the voyage."
     ]
    },
    {
     "cell_type": "code",
     "collapsed": false,
     "input": [
      "sns.factorplot(\"class\", data=titanic, hue=\"embark_town\", palette=\"Set2\");"
     ],
     "language": "python",
     "metadata": {},
     "outputs": [],
     "prompt_number": 30
    },
    {
     "cell_type": "heading",
     "level": 3,
     "metadata": {},
     "source": [
      "Who was traveling with family members?"
     ]
    },
    {
     "cell_type": "markdown",
     "metadata": {},
     "source": [
      "We also have some data, although it's not coded very well, about the number of parents/children and the numbe of siblings/spouses on board for each passenger."
     ]
    },
    {
     "cell_type": "code",
     "collapsed": false,
     "input": [
      "sns.factorplot(\"class\", data=titanic, hue=\"parch\", palette=\"BuGn\");"
     ],
     "language": "python",
     "metadata": {},
     "outputs": [],
     "prompt_number": 31
    },
    {
     "cell_type": "code",
     "collapsed": false,
     "input": [
      "sns.factorplot(\"class\", data=titanic, hue=\"sibsp\", palette=\"YlGn\");"
     ],
     "language": "python",
     "metadata": {},
     "outputs": [],
     "prompt_number": 32
    },
    {
     "cell_type": "markdown",
     "metadata": {},
     "source": [
      "We defined a variable that just measures whether someone was traveling alone, i.e. without family."
     ]
    },
    {
     "cell_type": "code",
     "collapsed": false,
     "input": [
      "sns.factorplot(\"alone\", data=titanic, palette=\"Greens\");"
     ],
     "language": "python",
     "metadata": {},
     "outputs": [],
     "prompt_number": 33
    },
    {
     "cell_type": "heading",
     "level": 2,
     "metadata": {},
     "source": [
      "What made people survive the sinking?"
     ]
    },
    {
     "cell_type": "markdown",
     "metadata": {},
     "source": [
      "<div style=\"width:100%; text-align:center\">\n",
      "<i>Iceberg, dead ahead!</i><br><br>\n",
      "<img src=http://upload.wikimedia.org/wikipedia/en/b/bb/Titanic_breaks_in_half.jpg width=500px>\n",
      "</div>"
     ]
    },
    {
     "cell_type": "markdown",
     "metadata": {},
     "source": [
      "Now that we have a feel for the characteristics of our sample, let's get down to the main question and ask what factors seem to predict whether our passengers survived. But first, one more count plot just to see how many of our passengers perished in the sinking."
     ]
    },
    {
     "cell_type": "code",
     "collapsed": false,
     "input": [
      "sns.factorplot(\"alive\", data=titanic, palette=\"OrRd_d\");"
     ],
     "language": "python",
     "metadata": {},
     "outputs": [
      {
       "output_type": "stream",
       "stream": "stderr",
       "text": [
        "C:\\Anaconda\\lib\\site-packages\\matplotlib\\pyplot.py:412: RuntimeWarning: More than 20 figures have been opened. Figures created through the pyplot interface (`matplotlib.pyplot.figure`) are retained until explicitly closed and may consume too much memory. (To control this warning, see the rcParam `figure.max_num_figures`).\n",
        "  max_open_warning, RuntimeWarning)\n"
       ]
      }
     ],
     "prompt_number": 34
    },
    {
     "cell_type": "heading",
     "level": 3,
     "metadata": {},
     "source": [
      "What classes had the survivors traveled in?"
     ]
    },
    {
     "cell_type": "markdown",
     "metadata": {},
     "source": [
      "It's part of popular lore that the third-class (or steerage) passengers fared much more poorly than their wealthier shipmates. Is this borne out in the data?"
     ]
    },
    {
     "cell_type": "code",
     "collapsed": false,
     "input": [
      "sns.factorplot(\"class\", \"survived\", data=titanic).set(ylim=(0, 1))"
     ],
     "language": "python",
     "metadata": {},
     "outputs": [
      {
       "metadata": {},
       "output_type": "pyout",
       "prompt_number": 35,
       "text": [
        "<seaborn.axisgrid.FacetGrid at 0x1c0b60b8>"
       ]
      }
     ],
     "prompt_number": 35
    },
    {
     "cell_type": "markdown",
     "metadata": {},
     "source": [
      "We also of course know that women were given high priority during the evacuation, and we saw above that Third class was disproportionately male. Maybe that's driving the class effect?"
     ]
    },
    {
     "cell_type": "code",
     "collapsed": false,
     "input": [
      "sns.factorplot(\"class\", \"survived\", data=titanic, hue=\"sex\", palette=pal).set(ylim=(0, 1));"
     ],
     "language": "python",
     "metadata": {},
     "outputs": [],
     "prompt_number": 36
    },
    {
     "cell_type": "markdown",
     "metadata": {},
     "source": [
      "Nope, in general it was not good to be a male *or* to be in steerage."
     ]
    },
    {
     "cell_type": "heading",
     "level": 3,
     "metadata": {},
     "source": [
      "What effect did \"women and children first\" have?"
     ]
    },
    {
     "cell_type": "markdown",
     "metadata": {},
     "source": [
      "Were they at least successful in evacuating the children?"
     ]
    },
    {
     "cell_type": "code",
     "collapsed": false,
     "input": [
      "fg = sns.factorplot(\"class\", \"survived\", data=titanic, hue=\"who\", col=\"who\", palette=pal, aspect=.4)\n",
      "fg.set(ylim=(0, 1))\n",
      "fg.despine(left=True)"
     ],
     "language": "python",
     "metadata": {},
     "outputs": [
      {
       "metadata": {},
       "output_type": "pyout",
       "prompt_number": 37,
       "text": [
        "<seaborn.axisgrid.FacetGrid at 0x1c737438>"
       ]
      }
     ],
     "prompt_number": 37
    },
    {
     "cell_type": "markdown",
     "metadata": {},
     "source": [
      "Pretty good for first and second class (although the precise estimates are unreliable because there weren't that many children traveling in the upper classes. It's actually the case that every second-class child survived, though).\n",
      "\n",
      "We suspect that the best way to predict survival is to look at whether a passenger was an adult male and what class he or she was in."
     ]
    },
    {
     "cell_type": "code",
     "collapsed": false,
     "input": [
      "sns.factorplot(\"class\", \"survived\", data=titanic, hue=\"adult_male\", palette=\"Blues\").set(ylim=(0, 1))"
     ],
     "language": "python",
     "metadata": {},
     "outputs": [
      {
       "metadata": {},
       "output_type": "pyout",
       "prompt_number": 38,
       "text": [
        "<seaborn.axisgrid.FacetGrid at 0x18c81470>"
       ]
      }
     ],
     "prompt_number": 38
    },
    {
     "cell_type": "markdown",
     "metadata": {},
     "source": [
      "Another way to plot the same data emphasizes the different outcomes for men and other passengers even more dramatically."
     ]
    },
    {
     "cell_type": "code",
     "collapsed": false,
     "input": [
      "fg = sns.factorplot(\"adult_male\", \"survived\", data=titanic, col=\"class\", hue=\"class\",\n",
      "                    aspect=.33, palette=\"BuPu_d\")\n",
      "fg.set(ylim=(0, 1))\n",
      "fg.despine(left=True);"
     ],
     "language": "python",
     "metadata": {},
     "outputs": [],
     "prompt_number": 39
    },
    {
     "cell_type": "heading",
     "level": 3,
     "metadata": {},
     "source": [
      "Did age matter in general?"
     ]
    },
    {
     "cell_type": "markdown",
     "metadata": {},
     "source": [
      "We can also ask whether age as a contiunous variable mattered. We'll draw logistic regression plots, first jittering the survival datapoints to get a sense of the distribution."
     ]
    },
    {
     "cell_type": "code",
     "collapsed": false,
     "input": [
      "sns.lmplot(\"age\", \"survived\", titanic, logistic=True, y_jitter=.05);"
     ],
     "language": "python",
     "metadata": {},
     "outputs": [],
     "prompt_number": 40
    },
    {
     "cell_type": "markdown",
     "metadata": {},
     "source": [
      "We can also plot the same data with the survival observations grouped into discrete bins."
     ]
    },
    {
     "cell_type": "code",
     "collapsed": false,
     "input": [
      "sns.lmplot(\"age\", \"survived\", titanic, logistic=True, x_bins=4, truncate=True);"
     ],
     "language": "python",
     "metadata": {},
     "outputs": [],
     "prompt_number": 41
    },
    {
     "cell_type": "heading",
     "level": 3,
     "metadata": {},
     "source": [
      "How did age interact with sex and class?"
     ]
    },
    {
     "cell_type": "markdown",
     "metadata": {},
     "source": [
      "We know that sex is important, though, so we probably want to separate out these predictions for men and women."
     ]
    },
    {
     "cell_type": "code",
     "collapsed": false,
     "input": [
      "age_bins = [15, 30, 45, 60]\n",
      "sns.lmplot(\"age\", \"survived\", titanic, hue=\"sex\",\n",
      "           palette=pal, x_bins=age_bins, logistic=True).set(xlim=(0, 80));"
     ],
     "language": "python",
     "metadata": {},
     "outputs": [],
     "prompt_number": 42
    },
    {
     "cell_type": "markdown",
     "metadata": {},
     "source": [
      "Class is imporant too, let's see whether it interacts with the age variable as well."
     ]
    },
    {
     "cell_type": "code",
     "collapsed": false,
     "input": [
      "sns.lmplot(\"age\", \"survived\", titanic, hue=\"class\",\n",
      "           palette=\"BuPu_d\", x_bins=age_bins, logistic=True).set(xlim=(0, 80));"
     ],
     "language": "python",
     "metadata": {},
     "outputs": [],
     "prompt_number": 43
    },
    {
     "cell_type": "markdown",
     "metadata": {},
     "source": [
      "Because the above plot is rather busy, it might make sense to split the three classes onto separate facets."
     ]
    },
    {
     "cell_type": "code",
     "collapsed": false,
     "input": [
      "sns.lmplot(\"age\", \"survived\", titanic, col=\"class\", hue=\"class\",\n",
      "           palette=\"BuPu_d\", x_bins=4, logistic=True, size=3).set(xlim=(0, 80));"
     ],
     "language": "python",
     "metadata": {},
     "outputs": [],
     "prompt_number": 44
    },
    {
     "cell_type": "heading",
     "level": 3,
     "metadata": {},
     "source": [
      "Did it matter what passengers paid, or where they stayed?"
     ]
    },
    {
     "cell_type": "markdown",
     "metadata": {},
     "source": [
      "We know that class matters, but we can also use the `fare` variable as a proxy for a contiuous measure of wealth."
     ]
    },
    {
     "cell_type": "code",
     "collapsed": false,
     "input": [
      "sns.lmplot(\"fare_winsor\", \"survived\", titanic, x_bins=4, logistic=True, truncate=True);"
     ],
     "language": "python",
     "metadata": {},
     "outputs": [],
     "prompt_number": 45
    },
    {
     "cell_type": "markdown",
     "metadata": {},
     "source": [
      "Perhaps it mattered what deck each passenger's cabin was on?"
     ]
    },
    {
     "cell_type": "code",
     "collapsed": false,
     "input": [
      "sns.factorplot(\"deck\", \"survived\", data=titanic, palette=\"PuBu_d\", join=False);"
     ],
     "language": "python",
     "metadata": {},
     "outputs": [],
     "prompt_number": 46
    },
    {
     "cell_type": "code",
     "collapsed": false,
     "input": [
      "sns.factorplot(\"deck\", \"survived\", data=titanic, col=\"class\", size=3, palette=\"PuBu_d\", join=False);"
     ],
     "language": "python",
     "metadata": {},
     "outputs": [],
     "prompt_number": 47
    },
    {
     "cell_type": "heading",
     "level": 3,
     "metadata": {},
     "source": [
      "Did family members increase the odds of survival?"
     ]
    },
    {
     "cell_type": "markdown",
     "metadata": {},
     "source": [
      "Although the way our data on family members was coded, we don't know for sure what sort of companions these passengers had, but it's worth asking how they influenced survival."
     ]
    },
    {
     "cell_type": "code",
     "collapsed": false,
     "input": [
      "sns.lmplot(\"parch\", \"survived\", titanic, x_estimator=np.mean, logistic=True);"
     ],
     "language": "python",
     "metadata": {},
     "outputs": [],
     "prompt_number": 48
    },
    {
     "cell_type": "code",
     "collapsed": false,
     "input": [
      "sns.lmplot(\"parch\", \"survived\", titanic, hue=\"sex\", x_estimator=np.mean, logistic=True, palette=pal);"
     ],
     "language": "python",
     "metadata": {},
     "outputs": [],
     "prompt_number": 49
    },
    {
     "cell_type": "code",
     "collapsed": false,
     "input": [
      "sns.lmplot(\"sibsp\", \"survived\", titanic, x_estimator=np.mean, logistic=True);"
     ],
     "language": "python",
     "metadata": {},
     "outputs": [],
     "prompt_number": 50
    },
    {
     "cell_type": "markdown",
     "metadata": {},
     "source": [
      "We also have a more interpretable `alone` variable (although it's reasonable to assume that this is going to be confounded with age)."
     ]
    },
    {
     "cell_type": "code",
     "collapsed": false,
     "input": [
      "sns.factorplot(\"alone\", \"survived\", data=titanic).set(ylim=(0, 1));"
     ],
     "language": "python",
     "metadata": {},
     "outputs": [],
     "prompt_number": 51
    },
    {
     "cell_type": "markdown",
     "metadata": {},
     "source": [
      "Did traveling alone have a greater effect depending on what class you were in?"
     ]
    },
    {
     "cell_type": "code",
     "collapsed": false,
     "input": [
      "fg = sns.factorplot(\"alone\", \"survived\", data=titanic, col=\"class\", hue=\"class\",\n",
      "                    aspect=.33, palette=\"BuPu_d\")\n",
      "fg.set(ylim=(0, 1))\n",
      "fg.despine(left=True);"
     ],
     "language": "python",
     "metadata": {},
     "outputs": [],
     "prompt_number": 52
    },
    {
     "cell_type": "markdown",
     "metadata": {},
     "source": [
      "As above, a different presentation of the same data emphasizes different comparisons."
     ]
    },
    {
     "cell_type": "code",
     "collapsed": false,
     "input": [
      "sns.factorplot(\"class\", \"survived\", data=titanic, hue=\"alone\", palette=\"Greens\").set(ylim=(0, 1));"
     ],
     "language": "python",
     "metadata": {},
     "outputs": [],
     "prompt_number": 53
    },
    {
     "cell_type": "markdown",
     "metadata": {},
     "source": [
      "What about men and women who were traveling alone?"
     ]
    },
    {
     "cell_type": "code",
     "collapsed": false,
     "input": [
      "sns.factorplot(\"alone\", \"survived\", data=titanic, hue=\"sex\", palette=pal).set(ylim=(0, 1));"
     ],
     "language": "python",
     "metadata": {},
     "outputs": [],
     "prompt_number": 54
    },
    {
     "cell_type": "code",
     "collapsed": false,
     "input": [
      "fg = sns.factorplot(\"alone\", \"survived\", data=titanic, hue=\"sex\",\n",
      "                    col=\"class\", palette=pal, aspect=.33)\n",
      "fg.despine(left=True);"
     ],
     "language": "python",
     "metadata": {},
     "outputs": [],
     "prompt_number": 55
    },
    {
     "cell_type": "code",
     "collapsed": false,
     "input": [],
     "language": "python",
     "metadata": {},
     "outputs": [],
     "prompt_number": 55
    }
   ],
   "metadata": {}
  }
 ]
}