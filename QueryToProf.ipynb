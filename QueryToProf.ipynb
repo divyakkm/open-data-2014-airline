{
 "metadata": {
  "name": ""
 },
 "nbformat": 3,
 "nbformat_minor": 0,
 "worksheets": [
  {
   "cells": [
    {
     "cell_type": "code",
     "collapsed": false,
     "input": [
      "#!/usr/bin/env python\n",
      "\n",
      "__author__ = \"\"\n",
      "__email__ = \"\"\n",
      "__status__ = \"\""
     ],
     "language": "python",
     "metadata": {},
     "outputs": [],
     "prompt_number": 1
    },
    {
     "cell_type": "code",
     "collapsed": false,
     "input": [
      "#  Importing various modules\n",
      "\n",
      "from __future__ import division\n",
      "%matplotlib inline\n",
      "import matplotlib.pyplot as plt\n",
      "import numpy as np\n",
      "from pylab import figure, show\n",
      "from pandas import DataFrame, Series\n",
      "import pandas as pd\n",
      "import csv\n",
      "import os\n",
      "import statsmodels.formula.api as smf\n",
      "import scipy.stats as stats\n",
      "import statsmodels.api as sm"
     ],
     "language": "python",
     "metadata": {},
     "outputs": [],
     "prompt_number": 2
    },
    {
     "cell_type": "code",
     "collapsed": false,
     "input": [
      "\n",
      "INPUT_FILE_PATH = \"datasets/Supplemental_data/dfMasterPickle\""
     ],
     "language": "python",
     "metadata": {},
     "outputs": [],
     "prompt_number": 5
    },
    {
     "cell_type": "code",
     "collapsed": false,
     "input": [
      "dfMaster = pd.read_pickle(INPUT_FILE_PATH)\n",
      "groupedorigin=dfMaster.groupby([dfMaster.Origin_airport,dfMaster.Origin_city, dfMaster.Origin_lat,dfMaster.Origin_long]).size()\n",
      "\n",
      "groupedorigin"
     ],
     "language": "python",
     "metadata": {},
     "outputs": [
      {
       "metadata": {},
       "output_type": "pyout",
       "prompt_number": 6,
       "text": [
        "Origin_airport                      Origin_city    Origin_lat  Origin_long\n",
        "Adams                               Little Rock    34.729396   -92.224246      385\n",
        "Albany Cty                          Albany         42.748119   -73.802979      381\n",
        "Albuquerque International           Albuquerque    35.040222   -106.609194    2040\n",
        "Amarillo International              Amarillo       35.219372   -101.705927     317\n",
        "Austin-Bergstrom International      Austin         30.194533   -97.669872     1603\n",
        "Baltimore-Washington International  Baltimore      39.175402   -76.668198     4578\n",
        "Baton Rouge Metropolitan, Ryan      Baton Rouge    30.533161   -91.149634        1\n",
        "Birmingham International            Birmingham     33.562943   -86.753550      792\n",
        "Boise Air Terminal                  Boise          43.564444   -116.222778     627\n",
        "Bradley International               Windsor Locks  41.938874   -72.683228      513\n",
        "Buffalo Niagara Intl                Buffalo        42.940525   -78.732167      464\n",
        "Burbank-Glendale-Pasadena           Burbank        34.200619   -118.358497    1613\n",
        "Charleston AFB/International        Charleston     32.898646   -80.040506        1\n",
        "Charlotte/Douglas International     Charlotte      35.214011   -80.943126        1\n",
        "Chicago Midway                      Chicago        41.785983   -87.752424     6332\n",
        "...\n",
        "San Francisco International      San Francisco  37.619002   -122.374843     743\n",
        "San Jose International           San Jose       37.361862   -121.929009    2197\n",
        "Seattle-Tacoma Intl              Seattle        47.448982   -122.309313    1307\n",
        "Southwest Florida International  Ft. Myers      26.536167   -81.755167      319\n",
        "Spokane Intl                     Spokane        47.619856   -117.533843     673\n",
        "Syracuse-Hancock Intl            Syracuse       43.111187   -76.106311        1\n",
        "Tampa International              Tampa          27.975472   -82.533250     2387\n",
        "Theodore F Green State           Providence     41.723999   -71.428221      951\n",
        "Tucson International             Tucson         32.116083   -110.941028     894\n",
        "Tulsa International              Tulsa          36.198372   -95.888242      695\n",
        "Valley International             Harlingen      26.228506   -97.654394      310\n",
        "Washington Dulles International  Chantilly      38.944532   -77.455810      299\n",
        "Will Rogers World                Oklahoma City  35.393088   -97.600734      847\n",
        "William P Hobby                  Houston        29.645419   -95.278889     3825\n",
        "Yeager                           Charleston     38.373151   -81.593190        1\n",
        "Length: 82, dtype: int64"
       ]
      }
     ],
     "prompt_number": 6
    },
    {
     "cell_type": "code",
     "collapsed": false,
     "input": [
      "from IPython.core.display import HTML, Javascript"
     ],
     "language": "python",
     "metadata": {},
     "outputs": [],
     "prompt_number": 7
    },
    {
     "cell_type": "code",
     "collapsed": false,
     "input": [
      "# load the Google Maps API library\n",
      "# TO DO:  make it easy to add API key\n",
      "\n",
      "def gmap_init():\n",
      "    js = \"\"\"\n",
      "window.gmap_initialize = function() {};\n",
      "$.getScript('https://maps.googleapis.com/maps/api/js?v=3&sensor=false&callback=gmap_initialize');\n",
      "\"\"\"\n",
      "    return Javascript(data=js)\n",
      "\n",
      "gmap_init()"
     ],
     "language": "python",
     "metadata": {},
     "outputs": [
      {
       "javascript": [
        "\n",
        "window.gmap_initialize = function() {};\n",
        "$.getScript('https://maps.googleapis.com/maps/api/js?v=3&sensor=false&callback=gmap_initialize');\n"
       ],
       "metadata": {},
       "output_type": "pyout",
       "prompt_number": 8,
       "text": [
        "<IPython.core.display.Javascript at 0x109558690>"
       ]
      }
     ],
     "prompt_number": 8
    },
    {
     "cell_type": "code",
     "collapsed": false,
     "input": [
      "%%html\n",
      "<div id=\"map-canvas\" class=\"map-canvas\"/>\n",
      "<style type=\"text/css\">\n",
      "  .map-canvas { height: 600px; }\n",
      "</style>"
     ],
     "language": "python",
     "metadata": {},
     "outputs": [
      {
       "html": [
        "<div id=\"map-canvas\" class=\"map-canvas\"/>\n",
        "<style type=\"text/css\">\n",
        "  .map-canvas { height: 600px; }\n",
        "</style>"
       ],
       "metadata": {},
       "output_type": "display_data",
       "text": [
        "<IPython.core.display.HTML at 0x109558550>"
       ]
      }
     ],
     "prompt_number": 9
    },
    {
     "cell_type": "code",
     "collapsed": false,
     "input": [
      "%%javascript\n",
      "\n",
      "var myLatLng = new google.maps.LatLng(37.09024, -95.712891);\n",
      "var myOptions = {zoom: 4,center: myLatLng,mapTypeId: google.maps.MapTypeId.TERRAIN};\n",
      "\n",
      "var map = new google.maps.Map(document.getElementById(\"map-canvas\"),myOptions);\n",
      "var flightPlanCoordinates = [new google.maps.LatLng(40.37645722, -79.60837583),new google.maps.LatLng(32.9931, -115.5169325)];\n",
      "//new google.maps.LatLng(37.772323, -122.214897),\n",
      "// new google.maps.LatLng(21.291982, -157.821856)\n",
      "//new google.maps.LatLng(-18.142599, 178.431),\n",
      "// new google.maps.LatLng(-27.46758, 153.027892)\n",
      "var flightPath = new google.maps.Polyline({\n",
      "path: flightPlanCoordinates,\n",
      "strokeColor: \"#FF0000\",\n",
      "strokeOpacity: 1.0,\n",
      "strokeWeight: 2\n",
      "});\n",
      "\n",
      "flightPath.setMap(map);"
     ],
     "language": "python",
     "metadata": {},
     "outputs": [
      {
       "javascript": [
        "\n",
        "var myLatLng = new google.maps.LatLng(37.09024, -95.712891);\n",
        "var myOptions = {zoom: 4,center: myLatLng,mapTypeId: google.maps.MapTypeId.TERRAIN};\n",
        "\n",
        "var map = new google.maps.Map(document.getElementById(\"map-canvas\"),myOptions);\n",
        "var flightPlanCoordinates = [new google.maps.LatLng(40.37645722, -79.60837583),new google.maps.LatLng(32.9931, -115.5169325)];\n",
        "//new google.maps.LatLng(37.772323, -122.214897),\n",
        "// new google.maps.LatLng(21.291982, -157.821856)\n",
        "//new google.maps.LatLng(-18.142599, 178.431),\n",
        "// new google.maps.LatLng(-27.46758, 153.027892)\n",
        "var flightPath = new google.maps.Polyline({\n",
        "path: flightPlanCoordinates,\n",
        "strokeColor: \"#FF0000\",\n",
        "strokeOpacity: 1.0,\n",
        "strokeWeight: 2\n",
        "});\n",
        "\n",
        "flightPath.setMap(map);"
       ],
       "metadata": {},
       "output_type": "display_data",
       "text": [
        "<IPython.core.display.Javascript at 0x109558610>"
       ]
      }
     ],
     "prompt_number": 10
    },
    {
     "cell_type": "code",
     "collapsed": false,
     "input": [],
     "language": "python",
     "metadata": {},
     "outputs": []
    }
   ],
   "metadata": {}
  }
 ]
}