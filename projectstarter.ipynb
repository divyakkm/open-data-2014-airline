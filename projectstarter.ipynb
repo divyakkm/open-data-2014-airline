{
 "metadata": {
  "name": ""
 },
 "nbformat": 3,
 "nbformat_minor": 0,
 "worksheets": [
  {
   "cells": [
    {
     "cell_type": "heading",
     "level": 1,
     "metadata": {},
     "source": [
      "Analyzing Airline On Time Data"
     ]
    },
    {
     "cell_type": "heading",
     "level": 4,
     "metadata": {},
     "source": [
      "Team"
     ]
    },
    {
     "cell_type": "markdown",
     "metadata": {},
     "source": [
      "\n",
      "Divya Menghani\n",
      "Dheera Tallapragada\n",
      "Rahul Verma"
     ]
    },
    {
     "cell_type": "heading",
     "level": 4,
     "metadata": {},
     "source": [
      "About Our Project"
     ]
    },
    {
     "cell_type": "raw",
     "metadata": {},
     "source": [
      "As a group, we share common love for air-travel and curiosity about the airline industry. The recent missing Malaysian airline plane related incident spurred our interest further and made us realize how little we know about airlines, their schedules and their function in general. We began researching and stumbled upon US DoT dataset on their website, which looked pretty exhaustive and promising.\n",
      "\n",
      "By exploring this dataset, we intend to understand how the US airline industry operates. We plan to achieve this by finding out the most important/popular carriers in the country, understanding their performance - about delays and the causes for the delays, what cities they affect. In the process, we hope to unravel some interesting trends in the last few years in the US airline industry with the help of data visualizations.\n",
      "\n",
      "The United States Department of Transportation tracks the on-time performance of domestic flights operated by large air carriers. Airlines are required to report their on-time performance to the U.S. Department of Transportation and have been doing so since 1987. The U.S. Department of Transportation publishes a monthly summary of airline on-time performance, including causes of delay, in the Air Travel Consumer Report along with an annual reports on variety of on-time and flight delay information so that the public would have clear information about the nature and sources of airline delays and cancellations.\n",
      "\n",
      "Each year\u2019s data contains on-time arrival data for non-stop domestic flights by major air carriers, and provides such additional items as departure and arrival delays, origin and destination airports, flight numbers, scheduled and actual departure and arrival times, cancelled or diverted flights, taxi-out and taxi-in times, air time, and non-stop distance.\n",
      "\n",
      "Some of the questions which we want to investigate are (tentative list):\n",
      "\n",
      "1. When is the best time of day/day of week/time of year to fly to minimize delays?\n",
      "2. Visualize a week at SFO airport\n",
      "3. Relationship between season and delays\n",
      "4. Worst and Best airports for delays\n",
      "5. Busiest airport routes\n"
     ]
    },
    {
     "cell_type": "heading",
     "level": 4,
     "metadata": {},
     "source": [
      "Our Datasets"
     ]
    },
    {
     "cell_type": "markdown",
     "metadata": {},
     "source": [
      "We will be working with airline data for individual years found at http://stat-computing.org/dataexpo/2009/the-data.html.\n",
      "\n",
      "Additionally, we will also be using supplemental data sets about airports, carriers, plane-data and weather data found at http://stat-computing.org/dataexpo/2009/supplemental-data.html."
     ]
    },
    {
     "cell_type": "heading",
     "level": 1,
     "metadata": {},
     "source": [
      "BASIC CODE TO ACCESS THE OPEN DATASETS"
     ]
    },
    {
     "cell_type": "heading",
     "level": 4,
     "metadata": {},
     "source": [
      "Prerequisite"
     ]
    },
    {
     "cell_type": "markdown",
     "metadata": {},
     "source": [
      "Download the CSV file for any year of your choice from http://stat-computing.org/dataexpo/2009/the-data.html. Place it in you local drive (E.g C:\\\\Users\\\\Admin\\\\Supplemental_data) and assign this path to the variable \"INPUT_FILE_PATH\" declared under \"global constants\"."
     ]
    },
    {
     "cell_type": "code",
     "collapsed": false,
     "input": [
      "#!/usr/bin/env python\n",
      "\n",
      "__author__ = \"\"\n",
      "__email__ = \"\"\n",
      "__status__ = \"\""
     ],
     "language": "python",
     "metadata": {},
     "outputs": []
    },
    {
     "cell_type": "code",
     "collapsed": false,
     "input": [
      "#  Importing various modules\n",
      "\n",
      "from __future__ import division\n",
      "%matplotlib inline\n",
      "import matplotlib.pyplot as plt\n",
      "import numpy as np\n",
      "from pylab import figure, show\n",
      "from pandas import DataFrame, Series\n",
      "import pandas as pd\n",
      "import csv\n",
      "import os\n",
      "import statsmodels.formula.api as smf\n",
      "import scipy.stats as stats\n",
      "import statsmodels.api as sm"
     ],
     "language": "python",
     "metadata": {},
     "outputs": []
    },
    {
     "cell_type": "code",
     "collapsed": false,
     "input": [
      "#  Setting global constants. Please initialize this before running the code\n",
      "\n",
      "TRAINING_LINE_NUMBER = 100000 # Number of lines to be read from the huge file, set to total file length while running for entire file\n",
      "INPUT_FILE_PATH=\"C:\\\\Users\\\\Admin\\\\Supplemental_data\" # Path of the folder where you have placed your files\n",
      "SKIP_FIRST_LINE = True # To skip the first line, as its the header\n",
      "YEARS = ['2008'] # Add more years in this list and add the files in the INPUT_FILE_PATH"
     ],
     "language": "python",
     "metadata": {},
     "outputs": []
    },
    {
     "cell_type": "code",
     "collapsed": false,
     "input": [
      "# Setting the dataframes for Airline, Plane and Carriers\n",
      "\n",
      "try:\n",
      "    path = \"C:\\\\Users\\\\Admin\\\\Supplemental_data\\\\plane-data.csv\"\n",
      "    dfPlane = pd.read_csv(path)\n",
      "    path = 'C:\\\\Users\\\\Admin\\\\Supplemental_data\\\\airports.csv'\n",
      "    dfAirport = pd.read_csv(path)\n",
      "    path = 'C:\\\\Users\\\\Admin\\\\Supplemental_data\\\\carriers.csv'\n",
      "    dfCarrier = pd.read_csv(path)\n",
      "except Exception as e:\n",
      "    print \"Supplemental Data Import failed\", e"
     ],
     "language": "python",
     "metadata": {},
     "outputs": []
    },
    {
     "cell_type": "code",
     "collapsed": false,
     "input": [
      "# Readng the main file in a Pandas dataframe\n",
      "\n",
      "try:\n",
      "    for year in YEARS:\n",
      "        path = os.path.join(INPUT_FILE_PATH, '%d.csv' % int(year))\n",
      "        dfMaster = pd.read_csv(path, nrows=TRAINING_LINE_NUMBER,skiprows=0)\n",
      "except Exception as e:\n",
      "    print \"Supplemental Data Import failed\", e\n",
      "dfMaster.head()"
     ],
     "language": "python",
     "metadata": {},
     "outputs": []
    },
    {
     "cell_type": "code",
     "collapsed": false,
     "input": [
      "dfMaster.fillna(0,inplace=True)"
     ],
     "language": "python",
     "metadata": {},
     "outputs": []
    },
    {
     "cell_type": "code",
     "collapsed": false,
     "input": [
      "# TODO: Do this for other dataframes as well\n",
      "\n",
      "#  Convert all columns to respective datatypes\n",
      "\n",
      "dfMaster['Year'] = dfMaster['Year'].astype('int')\n",
      "dfMaster['Month'] = dfMaster['Month'].astype('int')\n",
      "dfMaster['DayofMonth'] = dfMaster['DayofMonth'].astype('int')\n",
      "dfMaster['DayOfWeek'] = dfMaster['DayOfWeek'].astype('int')\n",
      "dfMaster['DepTime'] = dfMaster['DepTime'].astype('int')\n",
      "dfMaster['CRSDepTime'] = dfMaster['CRSDepTime'].astype('int')\n",
      "dfMaster['ArrTime'] = dfMaster['ArrTime'].astype('int')\n",
      "dfMaster['CRSArrTime'] = dfMaster['CRSArrTime'].astype('int')\n",
      "dfMaster['FlightNum'] = dfMaster['FlightNum'].astype('int')\n",
      "dfMaster['ActualElapsedTime'] = dfMaster['ActualElapsedTime'].astype('int')\n",
      "dfMaster['CRSElapsedTime'] = dfMaster['CRSElapsedTime'].astype('int')\n",
      "dfMaster['AirTime'] = dfMaster['AirTime'].astype('int')\n",
      "dfMaster['ArrDelay'] = dfMaster['ArrDelay'].astype('int')\n",
      "dfMaster['DepDelay'] = dfMaster['DepDelay'].astype('int')\n",
      "dfMaster['Distance'] = dfMaster['Distance'].astype('int')\n",
      "dfMaster['TaxiIn'] = dfMaster['TaxiIn'].astype('int')\n",
      "dfMaster['TaxiOut'] = dfMaster['TaxiOut'].astype('int')\n",
      "dfMaster['Cancelled'] = dfMaster['Cancelled'].astype('int')\n",
      "dfMaster['Diverted'] = dfMaster['Diverted'].astype('int')\n",
      "print dfMaster.columns"
     ],
     "language": "python",
     "metadata": {},
     "outputs": []
    }
   ],
   "metadata": {}
  }
 ]
}