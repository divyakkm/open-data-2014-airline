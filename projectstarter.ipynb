{
 "metadata": {
  "name": ""
 },
 "nbformat": 3,
 "nbformat_minor": 0,
 "worksheets": [
  {
   "cells": [
    {
     "cell_type": "raw",
     "metadata": {},
     "source": [
      "Title\n",
      "======\n",
      "\n",
      "Analyzing Airline On Time Data\n",
      "\n",
      "Team\n",
      "====\n",
      "\n",
      "Divya Menghani\n",
      "Dheera Tallapragada\n",
      "Rahul Verma\n",
      "\n",
      "\n",
      "About our project\n",
      "=================\n",
      "\n",
      "As a group, we share common love for air-travel and curiosity about the airline industry. The recent missing Malaysian airline plane related incident spurred our interest further and made us realize how little we know about airlines, their schedules and their function in general. We began researching and stumbled upon US DoT dataset on their website, which looked pretty exhaustive and promising.\n",
      "\n",
      "By exploring this dataset, we intend to understand how the US airline industry operates. We plan to achieve this by finding out the most important/popular carriers in the country, understanding their performance - about delays and the causes for the delays, what cities they affect. In the process, we hope to unravel some interesting trends in the last few years in the US airline industry with the help of data visualizations.\n",
      "\n",
      "The United States Department of Transportation tracks the on-time performance of domestic flights operated by large air carriers. Airlines are required to report their on-time performance to the U.S. Department of Transportation and have been doing so since 1987. The U.S. Department of Transportation publishes a monthly summary of airline on-time performance, including causes of delay, in the Air Travel Consumer Report along with an annual reports on variety of on-time and flight delay information so that the public would have clear information about the nature and sources of airline delays and cancellations.\n",
      "\n",
      "Each year\u2019s data contains on-time arrival data for non-stop domestic flights by major air carriers, and provides such additional items as departure and arrival delays, origin and destination airports, flight numbers, scheduled and actual departure and arrival times, cancelled or diverted flights, taxi-out and taxi-in times, air time, and non-stop distance.\n",
      "\n",
      "Some of the questions which we want to investigate are (tentative list):\n",
      "\n",
      "1. When is the best time of day/day of week/time of year to fly to minimize delays?\n",
      "2. Visualize a week at SFO airport\n",
      "3. Relationship between season and delays\n",
      "4. Worst and Best airports for delays\n",
      "5. Busiest airport routes\n",
      "\n",
      "\n",
      "Our Datasets\n",
      "============\n",
      "\n",
      "We will be working with airline data for individual years found at http://stat-computing.org/dataexpo/2009/the-data.html.\n",
      "\n",
      "Additionally, we will also be using supplemental data sets about airports, carriers, plane-data and weather data found at http://stat-computing.org/dataexpo/2009/supplemental-data.html."
     ]
    }
   ],
   "metadata": {}
  }
 ]
}