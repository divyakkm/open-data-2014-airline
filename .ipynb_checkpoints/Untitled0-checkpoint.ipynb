{
 "metadata": {
  "name": "",
  "signature": "sha256:43ffcf25a0f9f00fd6bd77f3e24dfb6e62c5a764e70ce742b71da7b69b36310f"
 },
 "nbformat": 3,
 "nbformat_minor": 0,
 "worksheets": []
}