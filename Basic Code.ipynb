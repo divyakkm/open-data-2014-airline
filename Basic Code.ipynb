{
 "metadata": {
  "name": "",
  "signature": "sha256:03b78ef08a4ce9a3c24091628a084d81531042ac241e951d661e40d7e88e6e93"
 },
 "nbformat": 3,
 "nbformat_minor": 0,
 "worksheets": [
  {
   "cells": [
    {
     "cell_type": "heading",
     "level": 1,
     "metadata": {},
     "source": [
      "Analyzing Airline On Time Data"
     ]
    },
    {
     "cell_type": "heading",
     "level": 4,
     "metadata": {},
     "source": [
      "Team"
     ]
    },
    {
     "cell_type": "markdown",
     "metadata": {},
     "source": [
      "Divya Menghani, Dheera Tallapragada, Rahul Verma"
     ]
    },
    {
     "cell_type": "heading",
     "level": 4,
     "metadata": {},
     "source": [
      "About Our Project"
     ]
    },
    {
     "cell_type": "raw",
     "metadata": {},
     "source": [
      "As a group, we share common love for air-travel and curiosity about the airline industry. The recent missing Malaysian airline plane related incident spurred our interest further and made us realize how little we know about airlines, their schedules and their function in general. We began researching and stumbled upon US DoT dataset on their website, which looked pretty exhaustive and promising.\n",
      "\n",
      "By exploring this dataset, we intend to understand how the US airline industry operates. We plan to achieve this by finding out the most important/popular carriers in the country, understanding their performance - about delays and the causes for the delays, what cities they affect. In the process, we hope to unravel some interesting trends in the last few years in the US airline industry with the help of data visualizations.\n",
      "\n",
      "The United States Department of Transportation tracks the on-time performance of domestic flights operated by large air carriers. Airlines are required to report their on-time performance to the U.S. Department of Transportation and have been doing so since 1987. The U.S. Department of Transportation publishes a monthly summary of airline on-time performance, including causes of delay, in the Air Travel Consumer Report along with an annual reports on variety of on-time and flight delay information so that the public would have clear information about the nature and sources of airline delays and cancellations.\n",
      "\n",
      "Each year\u2019s data contains on-time arrival data for non-stop domestic flights by major air carriers, and provides such additional items as departure and arrival delays, origin and destination airports, flight numbers, scheduled and actual departure and arrival times, cancelled or diverted flights, taxi-out and taxi-in times, air time, and non-stop distance.\n",
      "\n",
      "Some of the questions which we want to investigate are (tentative list):\n",
      "\n",
      "1. When is the best time of day/day of week/time of year to fly to minimize delays?\n",
      "2. Visualize a week at SFO airport\n",
      "3. Relationship between season and delays\n",
      "4. Worst and Best airports for delays\n",
      "5. Busiest airport routes\n"
     ]
    },
    {
     "cell_type": "heading",
     "level": 4,
     "metadata": {},
     "source": [
      "Our Datasets"
     ]
    },
    {
     "cell_type": "markdown",
     "metadata": {},
     "source": [
      "We will be working with airline data for individual years found at http://stat-computing.org/dataexpo/2009/the-data.html.\n",
      "Additionally, we will also be using supplemental data sets about airports, carriers, plane-data and weather data found at http://stat-computing.org/dataexpo/2009/supplemental-data.html."
     ]
    },
    {
     "cell_type": "heading",
     "level": 1,
     "metadata": {},
     "source": [
      "BASIC CODE TO ACCESS THE OPEN DATASETS"
     ]
    },
    {
     "cell_type": "markdown",
     "metadata": {},
     "source": [
      "Download the CSV file for any year of your choice from http://stat-computing.org/dataexpo/2009/the-data.html. Place it in you local drive (E.g C:\\Users\\Admin\\Supplemental_data) and assign this path to the variable \"INPUT_FILE_PATH\" declared under \"global constants\"."
     ]
    },
    {
     "cell_type": "code",
     "collapsed": false,
     "input": [
      "#!/usr/bin/env python\n",
      "\n",
      "__author__ = \"\"\n",
      "__email__ = \"\"\n",
      "__status__ = \"\""
     ],
     "language": "python",
     "metadata": {},
     "outputs": [],
     "prompt_number": 1
    },
    {
     "cell_type": "code",
     "collapsed": false,
     "input": [
      "#  Importing various modules\n",
      "\n",
      "from __future__ import division\n",
      "%matplotlib inline\n",
      "import matplotlib.pyplot as plt\n",
      "import numpy as np\n",
      "from pylab import figure, show\n",
      "from pandas import DataFrame, Series\n",
      "import pandas as pd\n",
      "import csv\n",
      "import os\n",
      "import statsmodels.formula.api as smf\n",
      "import scipy.stats as stats\n",
      "import statsmodels.api as sm\n",
      "import bokeh"
     ],
     "language": "python",
     "metadata": {},
     "outputs": [],
     "prompt_number": 2
    },
    {
     "cell_type": "code",
     "collapsed": false,
     "input": [
      "#  Setting global constants. Please initialize this before running the code\n",
      "\n",
      "TRAINING_LINE_NUMBER = 100000 # Number of lines to be read from the huge file, set to total file length while running for entire file\n",
      "INPUT_FILE_PATH=\"C:\\\\Users\\\\Admin\\\\Supplemental_data\" # Path of the folder where you have placed your files\n",
      "SKIP_FIRST_LINE = True # To skip the first line, as its the header\n",
      "YEARS = ['2008'] # Add more years in this list and add the files in the INPUT_FILE_PATH"
     ],
     "language": "python",
     "metadata": {},
     "outputs": [],
     "prompt_number": 3
    },
    {
     "cell_type": "code",
     "collapsed": false,
     "input": [
      "# Setting the dataframes for Airline, Plane and Carriers\n",
      "\n",
      "try:\n",
      "    path = \"C:\\\\Users\\\\Admin\\\\Supplemental_data\\\\plane-data.csv\"\n",
      "    dfPlane = pd.read_csv(path, parse_dates=True, dayfirst=False)\n",
      "    path = 'C:\\\\Users\\\\Admin\\\\Supplemental_data\\\\airports.csv'\n",
      "    dfAirport = pd.read_csv(path)\n",
      "    path = 'C:\\\\Users\\\\Admin\\\\Supplemental_data\\\\carriers.csv'\n",
      "    dfCarrier = pd.read_csv(path)\n",
      "except Exception as e:\n",
      "    print \"Supplemental Data Import failed\", e"
     ],
     "language": "python",
     "metadata": {},
     "outputs": [],
     "prompt_number": 4
    },
    {
     "cell_type": "code",
     "collapsed": true,
     "input": [
      "# Readng the main file in a Pandas dataframe\n",
      "\n",
      "try:\n",
      "    for year in YEARS:\n",
      "        path = os.path.join(INPUT_FILE_PATH, '%d.csv' % int(year))\n",
      "        dfMaster = pd.read_csv(path, nrows=TRAINING_LINE_NUMBER,skiprows=0)\n",
      "except Exception as e:\n",
      "    print \"Supplemental Data Import failed\", e\n",
      "dfMaster.head()"
     ],
     "language": "python",
     "metadata": {},
     "outputs": [
      {
       "html": [
        "<div style=\"max-height:1000px;max-width:1500px;overflow:auto;\">\n",
        "<table border=\"1\" class=\"dataframe\">\n",
        "  <thead>\n",
        "    <tr style=\"text-align: right;\">\n",
        "      <th></th>\n",
        "      <th>Year</th>\n",
        "      <th>Month</th>\n",
        "      <th>DayofMonth</th>\n",
        "      <th>DayOfWeek</th>\n",
        "      <th>DepTime</th>\n",
        "      <th>CRSDepTime</th>\n",
        "      <th>ArrTime</th>\n",
        "      <th>CRSArrTime</th>\n",
        "      <th>UniqueCarrier</th>\n",
        "      <th>FlightNum</th>\n",
        "      <th>TailNum</th>\n",
        "      <th>ActualElapsedTime</th>\n",
        "      <th>CRSElapsedTime</th>\n",
        "      <th>AirTime</th>\n",
        "      <th>ArrDelay</th>\n",
        "      <th>DepDelay</th>\n",
        "      <th>Origin</th>\n",
        "      <th>Dest</th>\n",
        "      <th>Distance</th>\n",
        "      <th>TaxiIn</th>\n",
        "      <th></th>\n",
        "    </tr>\n",
        "  </thead>\n",
        "  <tbody>\n",
        "    <tr>\n",
        "      <th>0</th>\n",
        "      <td> 2008</td>\n",
        "      <td> 1</td>\n",
        "      <td> 3</td>\n",
        "      <td> 4</td>\n",
        "      <td> 2003</td>\n",
        "      <td> 1955</td>\n",
        "      <td> 2211</td>\n",
        "      <td> 2225</td>\n",
        "      <td> WN</td>\n",
        "      <td>  335</td>\n",
        "      <td> N712SW</td>\n",
        "      <td> 128</td>\n",
        "      <td> 150</td>\n",
        "      <td> 116</td>\n",
        "      <td>-14</td>\n",
        "      <td>  8</td>\n",
        "      <td> IAD</td>\n",
        "      <td> TPA</td>\n",
        "      <td> 810</td>\n",
        "      <td> 4</td>\n",
        "      <td>...</td>\n",
        "    </tr>\n",
        "    <tr>\n",
        "      <th>1</th>\n",
        "      <td> 2008</td>\n",
        "      <td> 1</td>\n",
        "      <td> 3</td>\n",
        "      <td> 4</td>\n",
        "      <td>  754</td>\n",
        "      <td>  735</td>\n",
        "      <td> 1002</td>\n",
        "      <td> 1000</td>\n",
        "      <td> WN</td>\n",
        "      <td> 3231</td>\n",
        "      <td> N772SW</td>\n",
        "      <td> 128</td>\n",
        "      <td> 145</td>\n",
        "      <td> 113</td>\n",
        "      <td>  2</td>\n",
        "      <td> 19</td>\n",
        "      <td> IAD</td>\n",
        "      <td> TPA</td>\n",
        "      <td> 810</td>\n",
        "      <td> 5</td>\n",
        "      <td>...</td>\n",
        "    </tr>\n",
        "    <tr>\n",
        "      <th>2</th>\n",
        "      <td> 2008</td>\n",
        "      <td> 1</td>\n",
        "      <td> 3</td>\n",
        "      <td> 4</td>\n",
        "      <td>  628</td>\n",
        "      <td>  620</td>\n",
        "      <td>  804</td>\n",
        "      <td>  750</td>\n",
        "      <td> WN</td>\n",
        "      <td>  448</td>\n",
        "      <td> N428WN</td>\n",
        "      <td>  96</td>\n",
        "      <td>  90</td>\n",
        "      <td>  76</td>\n",
        "      <td> 14</td>\n",
        "      <td>  8</td>\n",
        "      <td> IND</td>\n",
        "      <td> BWI</td>\n",
        "      <td> 515</td>\n",
        "      <td> 3</td>\n",
        "      <td>...</td>\n",
        "    </tr>\n",
        "    <tr>\n",
        "      <th>3</th>\n",
        "      <td> 2008</td>\n",
        "      <td> 1</td>\n",
        "      <td> 3</td>\n",
        "      <td> 4</td>\n",
        "      <td>  926</td>\n",
        "      <td>  930</td>\n",
        "      <td> 1054</td>\n",
        "      <td> 1100</td>\n",
        "      <td> WN</td>\n",
        "      <td> 1746</td>\n",
        "      <td> N612SW</td>\n",
        "      <td>  88</td>\n",
        "      <td>  90</td>\n",
        "      <td>  78</td>\n",
        "      <td> -6</td>\n",
        "      <td> -4</td>\n",
        "      <td> IND</td>\n",
        "      <td> BWI</td>\n",
        "      <td> 515</td>\n",
        "      <td> 3</td>\n",
        "      <td>...</td>\n",
        "    </tr>\n",
        "    <tr>\n",
        "      <th>4</th>\n",
        "      <td> 2008</td>\n",
        "      <td> 1</td>\n",
        "      <td> 3</td>\n",
        "      <td> 4</td>\n",
        "      <td> 1829</td>\n",
        "      <td> 1755</td>\n",
        "      <td> 1959</td>\n",
        "      <td> 1925</td>\n",
        "      <td> WN</td>\n",
        "      <td> 3920</td>\n",
        "      <td> N464WN</td>\n",
        "      <td>  90</td>\n",
        "      <td>  90</td>\n",
        "      <td>  77</td>\n",
        "      <td> 34</td>\n",
        "      <td> 34</td>\n",
        "      <td> IND</td>\n",
        "      <td> BWI</td>\n",
        "      <td> 515</td>\n",
        "      <td> 3</td>\n",
        "      <td>...</td>\n",
        "    </tr>\n",
        "  </tbody>\n",
        "</table>\n",
        "<p>5 rows \u00d7 29 columns</p>\n",
        "</div>"
       ],
       "metadata": {},
       "output_type": "pyout",
       "prompt_number": 5,
       "text": [
        "   Year  Month  DayofMonth  DayOfWeek  DepTime  CRSDepTime  ArrTime  \\\n",
        "0  2008      1           3          4     2003        1955     2211   \n",
        "1  2008      1           3          4      754         735     1002   \n",
        "2  2008      1           3          4      628         620      804   \n",
        "3  2008      1           3          4      926         930     1054   \n",
        "4  2008      1           3          4     1829        1755     1959   \n",
        "\n",
        "   CRSArrTime UniqueCarrier  FlightNum TailNum  ActualElapsedTime  \\\n",
        "0        2225            WN        335  N712SW                128   \n",
        "1        1000            WN       3231  N772SW                128   \n",
        "2         750            WN        448  N428WN                 96   \n",
        "3        1100            WN       1746  N612SW                 88   \n",
        "4        1925            WN       3920  N464WN                 90   \n",
        "\n",
        "   CRSElapsedTime  AirTime  ArrDelay  DepDelay Origin Dest  Distance  TaxiIn  \\\n",
        "0             150      116       -14         8    IAD  TPA       810       4   \n",
        "1             145      113         2        19    IAD  TPA       810       5   \n",
        "2              90       76        14         8    IND  BWI       515       3   \n",
        "3              90       78        -6        -4    IND  BWI       515       3   \n",
        "4              90       77        34        34    IND  BWI       515       3   \n",
        "\n",
        "       \n",
        "0 ...  \n",
        "1 ...  \n",
        "2 ...  \n",
        "3 ...  \n",
        "4 ...  \n",
        "\n",
        "[5 rows x 29 columns]"
       ]
      }
     ],
     "prompt_number": 5
    },
    {
     "cell_type": "code",
     "collapsed": false,
     "input": [
      "dfMaster.fillna(0,inplace=True)"
     ],
     "language": "python",
     "metadata": {},
     "outputs": [],
     "prompt_number": 6
    },
    {
     "cell_type": "code",
     "collapsed": false,
     "input": [
      "# TODO: Do this for other dataframes as well\n",
      "\n",
      "#  Convert all columns to respective datatypes\n",
      "\n",
      "dfMaster['Year'] = dfMaster['Year'].astype('int')\n",
      "dfMaster['Month'] = dfMaster['Month'].astype('int')\n",
      "dfMaster['DayofMonth'] = dfMaster['DayofMonth'].astype('int')\n",
      "dfMaster['DayOfWeek'] = dfMaster['DayOfWeek'].astype('int')\n",
      "dfMaster['DepTime'] = dfMaster['DepTime'].astype('int')\n",
      "dfMaster['CRSDepTime'] = dfMaster['CRSDepTime'].astype('int')\n",
      "dfMaster['ArrTime'] = dfMaster['ArrTime'].astype('int')\n",
      "dfMaster['CRSArrTime'] = dfMaster['CRSArrTime'].astype('int')\n",
      "dfMaster['FlightNum'] = dfMaster['FlightNum'].astype('int')\n",
      "dfMaster['ActualElapsedTime'] = dfMaster['ActualElapsedTime'].astype('int')\n",
      "dfMaster['CRSElapsedTime'] = dfMaster['CRSElapsedTime'].astype('int')\n",
      "dfMaster['AirTime'] = dfMaster['AirTime'].astype('int')\n",
      "dfMaster['ArrDelay'] = dfMaster['ArrDelay'].astype('int')\n",
      "dfMaster['DepDelay'] = dfMaster['DepDelay'].astype('int')\n",
      "dfMaster['Distance'] = dfMaster['Distance'].astype('int')\n",
      "dfMaster['TaxiIn'] = dfMaster['TaxiIn'].astype('int')\n",
      "dfMaster['TaxiOut'] = dfMaster['TaxiOut'].astype('int')\n",
      "dfMaster['Cancelled'] = dfMaster['Cancelled'].astype('int')\n",
      "dfMaster['Diverted'] = dfMaster['Diverted'].astype('int')\n",
      "print dfMaster.columns"
     ],
     "language": "python",
     "metadata": {},
     "outputs": [
      {
       "output_type": "stream",
       "stream": "stdout",
       "text": [
        "Index([u'Year', u'Month', u'DayofMonth', u'DayOfWeek', u'DepTime', u'CRSDepTime', u'ArrTime', u'CRSArrTime', u'UniqueCarrier', u'FlightNum', u'TailNum', u'ActualElapsedTime', u'CRSElapsedTime', u'AirTime', u'ArrDelay', u'DepDelay', u'Origin', u'Dest', u'Distance', u'TaxiIn', u'TaxiOut', u'Cancelled', u'CancellationCode', u'Diverted', u'CarrierDelay', u'WeatherDelay', u'NASDelay', u'SecurityDelay', u'LateAircraftDelay'], dtype='object')\n"
       ]
      }
     ],
     "prompt_number": 7
    },
    {
     "cell_type": "code",
     "collapsed": false,
     "input": [
      "# for col in dfMaster.columns:\n",
      "#     print 'dfMaster[\\'',col,'\\'] = dfMaster[\\'',col,'\\'].astype(\\'int\\')'"
     ],
     "language": "python",
     "metadata": {},
     "outputs": [],
     "prompt_number": 8
    },
    {
     "cell_type": "code",
     "collapsed": false,
     "input": [
      "results = sm.OLS.from_formula('DepDelay ~ ArrDelay', dfMaster).fit()\n",
      "print results.summary()"
     ],
     "language": "python",
     "metadata": {},
     "outputs": [
      {
       "output_type": "stream",
       "stream": "stdout",
       "text": [
        "                            OLS Regression Results                            \n",
        "==============================================================================\n",
        "Dep. Variable:               DepDelay   R-squared:                       0.878\n",
        "Model:                            OLS   Adj. R-squared:                  0.878\n",
        "Method:                 Least Squares   F-statistic:                 7.169e+05\n",
        "Date:                Wed, 23 Apr 2014   Prob (F-statistic):               0.00\n",
        "Time:                        15:50:09   Log-Likelihood:            -3.7096e+05\n",
        "No. Observations:              100000   AIC:                         7.419e+05\n",
        "Df Residuals:                   99998   BIC:                         7.419e+05\n",
        "Df Model:                           1                                         \n",
        "==============================================================================\n",
        "                 coef    std err          t      P>|t|      [95.0% Conf. Int.]\n",
        "------------------------------------------------------------------------------\n",
        "Intercept      5.3979      0.032    169.894      0.000         5.336     5.460\n",
        "ArrDelay       0.8598      0.001    846.697      0.000         0.858     0.862\n",
        "==============================================================================\n",
        "Omnibus:                    56008.621   Durbin-Watson:                   1.447\n",
        "Prob(Omnibus):                  0.000   Jarque-Bera (JB):         17478050.238\n",
        "Skew:                           1.493   Prob(JB):                         0.00\n",
        "Kurtosis:                      67.698   Cond. No.                         31.8\n",
        "==============================================================================\n"
       ]
      }
     ],
     "prompt_number": 9
    },
    {
     "cell_type": "code",
     "collapsed": false,
     "input": [
      "intercept, slope = results.params\n",
      "r2 = results.rsquared\n",
      "print slope, intercept, r2"
     ],
     "language": "python",
     "metadata": {},
     "outputs": [
      {
       "output_type": "stream",
       "stream": "stdout",
       "text": [
        "0.85983092622 5.3978751714 0.877587430749\n"
       ]
      }
     ],
     "prompt_number": 10
    },
    {
     "cell_type": "code",
     "collapsed": false,
     "input": [
      "plt.plot(dfMaster['DepDelay'], dfMaster['ArrDelay'], 'bo')\n",
      "x = np.array([min(dfMaster['ArrDelay']), max(dfMaster['ArrDelay'])])\n",
      "y = intercept + slope * x\n",
      "plt.plot(x, y, 'r-')\n",
      "plt.show()"
     ],
     "language": "python",
     "metadata": {},
     "outputs": [
      {
       "metadata": {},
       "output_type": "display_data",
       "png": "[encoded data removed]",
       "text": [
        "<matplotlib.figure.Figure at 0x1968feb8>"
       ]
      }
     ],
     "prompt_number": 11
    },
    {
     "cell_type": "code",
     "collapsed": false,
     "input": [
      "x"
     ],
     "language": "python",
     "metadata": {},
     "outputs": [
      {
       "metadata": {},
       "output_type": "pyout",
       "prompt_number": 12,
       "text": [
        "array([-57, 500])"
       ]
      }
     ],
     "prompt_number": 12
    },
    {
     "cell_type": "code",
     "collapsed": false,
     "input": [
      "from statsmodels.stats.anova import anova_lm\n",
      "\n",
      "anova_lm(results)"
     ],
     "language": "python",
     "metadata": {},
     "outputs": [
      {
       "html": [
        "<div style=\"max-height:1000px;max-width:1500px;overflow:auto;\">\n",
        "<table border=\"1\" class=\"dataframe\">\n",
        "  <thead>\n",
        "    <tr style=\"text-align: right;\">\n",
        "      <th></th>\n",
        "      <th>df</th>\n",
        "      <th>sum_sq</th>\n",
        "      <th>mean_sq</th>\n",
        "      <th>F</th>\n",
        "      <th>PR(&gt;F)</th>\n",
        "    </tr>\n",
        "  </thead>\n",
        "  <tbody>\n",
        "    <tr>\n",
        "      <th>ArrDelay</th>\n",
        "      <td>     1</td>\n",
        "      <td> 70003661.781356</td>\n",
        "      <td> 70003661.781356</td>\n",
        "      <td> 716895.237453</td>\n",
        "      <td>  0</td>\n",
        "    </tr>\n",
        "    <tr>\n",
        "      <th>Residual</th>\n",
        "      <td> 99998</td>\n",
        "      <td>  9764643.151600</td>\n",
        "      <td>       97.648384</td>\n",
        "      <td>           NaN</td>\n",
        "      <td>NaN</td>\n",
        "    </tr>\n",
        "  </tbody>\n",
        "</table>\n",
        "<p>2 rows \u00d7 5 columns</p>\n",
        "</div>"
       ],
       "metadata": {},
       "output_type": "pyout",
       "prompt_number": 13,
       "text": [
        "             df           sum_sq          mean_sq              F  PR(>F)\n",
        "ArrDelay      1  70003661.781356  70003661.781356  716895.237453       0\n",
        "Residual  99998   9764643.151600        97.648384            NaN     NaN\n",
        "\n",
        "[2 rows x 5 columns]"
       ]
      }
     ],
     "prompt_number": 13
    },
    {
     "cell_type": "code",
     "collapsed": false,
     "input": [
      "dfAirport.head()"
     ],
     "language": "python",
     "metadata": {},
     "outputs": [
      {
       "html": [
        "<div style=\"max-height:1000px;max-width:1500px;overflow:auto;\">\n",
        "<table border=\"1\" class=\"dataframe\">\n",
        "  <thead>\n",
        "    <tr style=\"text-align: right;\">\n",
        "      <th></th>\n",
        "      <th>iata</th>\n",
        "      <th>airport</th>\n",
        "      <th>city</th>\n",
        "      <th>state</th>\n",
        "      <th>country</th>\n",
        "      <th>lat</th>\n",
        "      <th>long</th>\n",
        "    </tr>\n",
        "  </thead>\n",
        "  <tbody>\n",
        "    <tr>\n",
        "      <th>0</th>\n",
        "      <td> 00M</td>\n",
        "      <td>             Thigpen </td>\n",
        "      <td>      Bay Springs</td>\n",
        "      <td> MS</td>\n",
        "      <td> USA</td>\n",
        "      <td> 31.953765</td>\n",
        "      <td> -89.234505</td>\n",
        "    </tr>\n",
        "    <tr>\n",
        "      <th>1</th>\n",
        "      <td> 00R</td>\n",
        "      <td> Livingston Municipal</td>\n",
        "      <td>       Livingston</td>\n",
        "      <td> TX</td>\n",
        "      <td> USA</td>\n",
        "      <td> 30.685861</td>\n",
        "      <td> -95.017928</td>\n",
        "    </tr>\n",
        "    <tr>\n",
        "      <th>2</th>\n",
        "      <td> 00V</td>\n",
        "      <td>          Meadow Lake</td>\n",
        "      <td> Colorado Springs</td>\n",
        "      <td> CO</td>\n",
        "      <td> USA</td>\n",
        "      <td> 38.945749</td>\n",
        "      <td>-104.569893</td>\n",
        "    </tr>\n",
        "    <tr>\n",
        "      <th>3</th>\n",
        "      <td> 01G</td>\n",
        "      <td>         Perry-Warsaw</td>\n",
        "      <td>            Perry</td>\n",
        "      <td> NY</td>\n",
        "      <td> USA</td>\n",
        "      <td> 42.741347</td>\n",
        "      <td> -78.052081</td>\n",
        "    </tr>\n",
        "    <tr>\n",
        "      <th>4</th>\n",
        "      <td> 01J</td>\n",
        "      <td>     Hilliard Airpark</td>\n",
        "      <td>         Hilliard</td>\n",
        "      <td> FL</td>\n",
        "      <td> USA</td>\n",
        "      <td> 30.688012</td>\n",
        "      <td> -81.905944</td>\n",
        "    </tr>\n",
        "  </tbody>\n",
        "</table>\n",
        "<p>5 rows \u00d7 7 columns</p>\n",
        "</div>"
       ],
       "metadata": {},
       "output_type": "pyout",
       "prompt_number": 14,
       "text": [
        "  iata               airport              city state country        lat  \\\n",
        "0  00M              Thigpen        Bay Springs    MS     USA  31.953765   \n",
        "1  00R  Livingston Municipal        Livingston    TX     USA  30.685861   \n",
        "2  00V           Meadow Lake  Colorado Springs    CO     USA  38.945749   \n",
        "3  01G          Perry-Warsaw             Perry    NY     USA  42.741347   \n",
        "4  01J      Hilliard Airpark          Hilliard    FL     USA  30.688012   \n",
        "\n",
        "         long  \n",
        "0  -89.234505  \n",
        "1  -95.017928  \n",
        "2 -104.569893  \n",
        "3  -78.052081  \n",
        "4  -81.905944  \n",
        "\n",
        "[5 rows x 7 columns]"
       ]
      }
     ],
     "prompt_number": 14
    },
    {
     "cell_type": "code",
     "collapsed": false,
     "input": [
      "#Renaming the Origin column as 'iata' in order to merge with Airports dataframe and renaming the new columns as 'Origin_'\n",
      "dfMaster.rename(columns={'Origin' : 'iata'}, inplace=True)\n",
      "dfMaster = pd.merge(dfMaster, dfAirport, on='iata', how = 'inner')\n",
      "dfMaster.rename(columns={'iata' : 'Origin', 'airport' : 'Origin_airport', 'city' : 'Origin_city', 'state' : 'Origin_state', 'country' : 'Origin_country', 'lat' : 'Origin_lat', 'long' : 'Origin_long'}, inplace='True')"
     ],
     "language": "python",
     "metadata": {},
     "outputs": [],
     "prompt_number": 15
    },
    {
     "cell_type": "code",
     "collapsed": false,
     "input": [
      "#Renaming the Dest column as 'iata' in order to merge with Airports dataframe and renaming the new columns as 'Dest_'\n",
      "dfMaster.rename(columns={'Dest' : 'iata'}, inplace=True)\n",
      "dfMaster = pd.merge(dfMaster, dfAirport, on='iata', how = 'inner')\n",
      "dfMaster.rename(columns={'iata' : 'Dest', 'airport' : 'Dest_airport', 'city' : 'Dest_city', 'state' : 'Dest_state', 'country' : 'Dest_country', 'lat' : 'Dest_lat', 'long' : 'Dest_long'}, inplace='True')"
     ],
     "language": "python",
     "metadata": {},
     "outputs": [],
     "prompt_number": 16
    },
    {
     "cell_type": "code",
     "collapsed": false,
     "input": [
      "dfMaster.head()"
     ],
     "language": "python",
     "metadata": {},
     "outputs": [
      {
       "html": [
        "<div style=\"max-height:1000px;max-width:1500px;overflow:auto;\">\n",
        "<table border=\"1\" class=\"dataframe\">\n",
        "  <thead>\n",
        "    <tr style=\"text-align: right;\">\n",
        "      <th></th>\n",
        "      <th>Year</th>\n",
        "      <th>Month</th>\n",
        "      <th>DayofMonth</th>\n",
        "      <th>DayOfWeek</th>\n",
        "      <th>DepTime</th>\n",
        "      <th>CRSDepTime</th>\n",
        "      <th>ArrTime</th>\n",
        "      <th>CRSArrTime</th>\n",
        "      <th>UniqueCarrier</th>\n",
        "      <th>FlightNum</th>\n",
        "      <th>TailNum</th>\n",
        "      <th>ActualElapsedTime</th>\n",
        "      <th>CRSElapsedTime</th>\n",
        "      <th>AirTime</th>\n",
        "      <th>ArrDelay</th>\n",
        "      <th>DepDelay</th>\n",
        "      <th>Origin</th>\n",
        "      <th>Dest</th>\n",
        "      <th>Distance</th>\n",
        "      <th>TaxiIn</th>\n",
        "      <th></th>\n",
        "    </tr>\n",
        "  </thead>\n",
        "  <tbody>\n",
        "    <tr>\n",
        "      <th>0</th>\n",
        "      <td> 2008</td>\n",
        "      <td> 1</td>\n",
        "      <td> 3</td>\n",
        "      <td> 4</td>\n",
        "      <td> 2003</td>\n",
        "      <td> 1955</td>\n",
        "      <td> 2211</td>\n",
        "      <td> 2225</td>\n",
        "      <td> WN</td>\n",
        "      <td>  335</td>\n",
        "      <td> N712SW</td>\n",
        "      <td> 128</td>\n",
        "      <td> 150</td>\n",
        "      <td> 116</td>\n",
        "      <td>-14</td>\n",
        "      <td>  8</td>\n",
        "      <td> IAD</td>\n",
        "      <td> TPA</td>\n",
        "      <td> 810</td>\n",
        "      <td> 4</td>\n",
        "      <td>...</td>\n",
        "    </tr>\n",
        "    <tr>\n",
        "      <th>1</th>\n",
        "      <td> 2008</td>\n",
        "      <td> 1</td>\n",
        "      <td> 3</td>\n",
        "      <td> 4</td>\n",
        "      <td>  754</td>\n",
        "      <td>  735</td>\n",
        "      <td> 1002</td>\n",
        "      <td> 1000</td>\n",
        "      <td> WN</td>\n",
        "      <td> 3231</td>\n",
        "      <td> N772SW</td>\n",
        "      <td> 128</td>\n",
        "      <td> 145</td>\n",
        "      <td> 113</td>\n",
        "      <td>  2</td>\n",
        "      <td> 19</td>\n",
        "      <td> IAD</td>\n",
        "      <td> TPA</td>\n",
        "      <td> 810</td>\n",
        "      <td> 5</td>\n",
        "      <td>...</td>\n",
        "    </tr>\n",
        "    <tr>\n",
        "      <th>2</th>\n",
        "      <td> 2008</td>\n",
        "      <td> 1</td>\n",
        "      <td> 4</td>\n",
        "      <td> 5</td>\n",
        "      <td> 2002</td>\n",
        "      <td> 1955</td>\n",
        "      <td> 2208</td>\n",
        "      <td> 2225</td>\n",
        "      <td> WN</td>\n",
        "      <td>  335</td>\n",
        "      <td> N219WN</td>\n",
        "      <td> 126</td>\n",
        "      <td> 150</td>\n",
        "      <td> 108</td>\n",
        "      <td>-17</td>\n",
        "      <td>  7</td>\n",
        "      <td> IAD</td>\n",
        "      <td> TPA</td>\n",
        "      <td> 810</td>\n",
        "      <td> 4</td>\n",
        "      <td>...</td>\n",
        "    </tr>\n",
        "    <tr>\n",
        "      <th>3</th>\n",
        "      <td> 2008</td>\n",
        "      <td> 1</td>\n",
        "      <td> 4</td>\n",
        "      <td> 5</td>\n",
        "      <td>  734</td>\n",
        "      <td>  735</td>\n",
        "      <td>  938</td>\n",
        "      <td> 1000</td>\n",
        "      <td> WN</td>\n",
        "      <td> 3231</td>\n",
        "      <td> N299WN</td>\n",
        "      <td> 124</td>\n",
        "      <td> 145</td>\n",
        "      <td> 111</td>\n",
        "      <td>-22</td>\n",
        "      <td> -1</td>\n",
        "      <td> IAD</td>\n",
        "      <td> TPA</td>\n",
        "      <td> 810</td>\n",
        "      <td> 4</td>\n",
        "      <td>...</td>\n",
        "    </tr>\n",
        "    <tr>\n",
        "      <th>4</th>\n",
        "      <td> 2008</td>\n",
        "      <td> 1</td>\n",
        "      <td> 5</td>\n",
        "      <td> 6</td>\n",
        "      <td> 2000</td>\n",
        "      <td> 1955</td>\n",
        "      <td> 2214</td>\n",
        "      <td> 2225</td>\n",
        "      <td> WN</td>\n",
        "      <td>  335</td>\n",
        "      <td> N410WN</td>\n",
        "      <td> 134</td>\n",
        "      <td> 150</td>\n",
        "      <td> 121</td>\n",
        "      <td>-11</td>\n",
        "      <td>  5</td>\n",
        "      <td> IAD</td>\n",
        "      <td> TPA</td>\n",
        "      <td> 810</td>\n",
        "      <td> 4</td>\n",
        "      <td>...</td>\n",
        "    </tr>\n",
        "  </tbody>\n",
        "</table>\n",
        "<p>5 rows \u00d7 41 columns</p>\n",
        "</div>"
       ],
       "metadata": {},
       "output_type": "pyout",
       "prompt_number": 17,
       "text": [
        "   Year  Month  DayofMonth  DayOfWeek  DepTime  CRSDepTime  ArrTime  \\\n",
        "0  2008      1           3          4     2003        1955     2211   \n",
        "1  2008      1           3          4      754         735     1002   \n",
        "2  2008      1           4          5     2002        1955     2208   \n",
        "3  2008      1           4          5      734         735      938   \n",
        "4  2008      1           5          6     2000        1955     2214   \n",
        "\n",
        "   CRSArrTime UniqueCarrier  FlightNum TailNum  ActualElapsedTime  \\\n",
        "0        2225            WN        335  N712SW                128   \n",
        "1        1000            WN       3231  N772SW                128   \n",
        "2        2225            WN        335  N219WN                126   \n",
        "3        1000            WN       3231  N299WN                124   \n",
        "4        2225            WN        335  N410WN                134   \n",
        "\n",
        "   CRSElapsedTime  AirTime  ArrDelay  DepDelay Origin Dest  Distance  TaxiIn  \\\n",
        "0             150      116       -14         8    IAD  TPA       810       4   \n",
        "1             145      113         2        19    IAD  TPA       810       5   \n",
        "2             150      108       -17         7    IAD  TPA       810       4   \n",
        "3             145      111       -22        -1    IAD  TPA       810       4   \n",
        "4             150      121       -11         5    IAD  TPA       810       4   \n",
        "\n",
        "       \n",
        "0 ...  \n",
        "1 ...  \n",
        "2 ...  \n",
        "3 ...  \n",
        "4 ...  \n",
        "\n",
        "[5 rows x 41 columns]"
       ]
      }
     ],
     "prompt_number": 17
    },
    {
     "cell_type": "code",
     "collapsed": false,
     "input": [
      "#Renaming the UniqueCarrier column as 'Code' in order to merge with Carrier dataframe and renaming the new columns as 'Dest_'\n",
      "dfMaster.rename(columns={'UniqueCarrier' : 'Code'}, inplace=True)\n",
      "dfMaster = pd.merge(dfMaster, dfCarrier, on='Code', how = 'inner')\n",
      "dfMaster.rename(columns={'Code' : 'UniqueCarrier', 'Description' : 'Carrier_Description'}, inplace='True')"
     ],
     "language": "python",
     "metadata": {},
     "outputs": [],
     "prompt_number": 18
    },
    {
     "cell_type": "code",
     "collapsed": false,
     "input": [
      "for i in dfMaster.groupby(by='UniqueCarrier').groups.iterkeys():\n",
      "    print i"
     ],
     "language": "python",
     "metadata": {},
     "outputs": [
      {
       "output_type": "stream",
       "stream": "stdout",
       "text": [
        "WN\n",
        "XE\n"
       ]
      }
     ],
     "prompt_number": 19
    },
    {
     "cell_type": "code",
     "collapsed": false,
     "input": [
      "dfArrvDelay_count = dfMaster[dfMaster['ArrDelay'] > 15].groupby(by='UniqueCarrier')['ArrDelay'].count()\n",
      "dfDepDelay_count = dfMaster[dfMaster['DepDelay'] > 15].groupby(by='UniqueCarrier')['DepDelay'].count()\n",
      "dfCarrDelay_count = pd.concat((dfArrvDelay_count, dfDepDelay_count), axis = 1)\n",
      "dfCarrDelay_count.columns = ['ArrivalDelay_count', 'DepartureDelay_count']"
     ],
     "language": "python",
     "metadata": {},
     "outputs": [],
     "prompt_number": 20
    },
    {
     "cell_type": "code",
     "collapsed": false,
     "input": [
      "dfCarrDelay_count = dfCarrDelay_count.sort(['ArrivalDelay_count'], ascending=[0])\n",
      "dfCarrDelay_count.head().plot(kind='barh')\n"
     ],
     "language": "python",
     "metadata": {},
     "outputs": [
      {
       "metadata": {},
       "output_type": "pyout",
       "prompt_number": 21,
       "text": [
        "<matplotlib.axes.AxesSubplot at 0x1969d780>"
       ]
      },
      {
       "metadata": {},
       "output_type": "display_data",
       "png": "[encoded data removed]",
       "text": [
        "<matplotlib.figure.Figure at 0x1969da90>"
       ]
      }
     ],
     "prompt_number": 21
    },
    {
     "cell_type": "code",
     "collapsed": false,
     "input": [
      "#dfMaster[['ArrDelay', 'DepDelay', 'CarrierDelay', u'WeatherDelay', u'NASDelay', u'SecurityDelay', 'LateAircraftDelay']]\n",
      "dfMaster.columns"
     ],
     "language": "python",
     "metadata": {},
     "outputs": [
      {
       "metadata": {},
       "output_type": "pyout",
       "prompt_number": 26,
       "text": [
        "Index([u'Year', u'Month', u'DayofMonth', u'DayOfWeek', u'DepTime', u'CRSDepTime', u'ArrTime', u'CRSArrTime', u'UniqueCarrier', u'FlightNum', u'TailNum', u'ActualElapsedTime', u'CRSElapsedTime', u'AirTime', u'ArrDelay', u'DepDelay', u'Origin', u'Dest', u'Distance', u'TaxiIn', u'TaxiOut', u'Cancelled', u'CancellationCode', u'Diverted', u'CarrierDelay', u'WeatherDelay', u'NASDelay', u'SecurityDelay', u'LateAircraftDelay', u'Origin_airport', u'Origin_city', u'Origin_state', u'Origin_country', u'Origin_lat', u'Origin_long', u'Dest_airport', u'Dest_city', u'Dest_state', u'Dest_country', u'Dest_lat', u'Dest_long', u'Carrier_Description'], dtype='object')"
       ]
      }
     ],
     "prompt_number": 26
    },
    {
     "cell_type": "code",
     "collapsed": false,
     "input": [
      "#dfMaster['Origin_airport']\n",
      "#dfMaster[dfMaster['ArrDelay'] >= 15].count()\n",
      "dfArptArrvDelay = dfMaster.groupby(by='Origin_airport').apply(lambda x: x[x['ArrDelay'] >=15].count())['ArrDelay']\n",
      "dfArptDepDelay = dfMaster.groupby(by='Origin_airport').apply(lambda x: x[x['DepDelay'] >=15].count())['DepDelay']\n"
     ],
     "language": "python",
     "metadata": {},
     "outputs": [],
     "prompt_number": 92
    },
    {
     "cell_type": "code",
     "collapsed": false,
     "input": [
      "#pd.merge(dfArptArrvDelay, dfArptDepDelay, left_index=True, right_index=True, how='outer')\n",
      "dfArptDelayCount = pd.concat([dfArptArrvDelay,dfArptDepDelay], axis=1) \n",
      "dfArptDelayCount = dfArptDelayCount.sort(['ArrDelay'], ascending=[0])"
     ],
     "language": "python",
     "metadata": {},
     "outputs": [],
     "prompt_number": 93
    },
    {
     "cell_type": "code",
     "collapsed": false,
     "input": [
      "dfArptDelayCount.head().plot(kind='barh')"
     ],
     "language": "python",
     "metadata": {},
     "outputs": [
      {
       "metadata": {},
       "output_type": "pyout",
       "prompt_number": 94,
       "text": [
        "<matplotlib.axes.AxesSubplot at 0x2100aeb8>"
       ]
      },
      {
       "metadata": {},
       "output_type": "display_data",
       "png": "[encoded data removed]",
       "text": [
        "<matplotlib.figure.Figure at 0x1914b4a8>"
       ]
      }
     ],
     "prompt_number": 94
    },
    {
     "cell_type": "code",
     "collapsed": false,
     "input": [
      "dfRouteArrvDelay = dfMaster.groupby(by=['Origin_airport','Dest_airport']).apply(lambda x: x[x['ArrDelay'] >=15].count())['ArrDelay']\n",
      "dfRouteDepDelay = dfMaster.groupby(by=['Origin_airport','Dest_airport']).apply(lambda x: x[x['DepDelay'] >=15].count())['DepDelay']"
     ],
     "language": "python",
     "metadata": {},
     "outputs": [],
     "prompt_number": 95
    },
    {
     "cell_type": "code",
     "collapsed": false,
     "input": [
      "dfRouteDelayCount = pd.concat([dfRouteArrvDelay,dfRouteDepDelay], axis=1) \n",
      "dfRouteDelayCount = dfRouteDelayCount.sort(['ArrDelay'], ascending=[0])"
     ],
     "language": "python",
     "metadata": {},
     "outputs": [],
     "prompt_number": 96
    },
    {
     "cell_type": "code",
     "collapsed": false,
     "input": [
      "dfRouteDelayCount.head().plot(kind='barh')"
     ],
     "language": "python",
     "metadata": {},
     "outputs": [
      {
       "metadata": {},
       "output_type": "pyout",
       "prompt_number": 97,
       "text": [
        "<matplotlib.axes.AxesSubplot at 0x20c6dfd0>"
       ]
      },
      {
       "metadata": {},
       "output_type": "display_data",
       "png": "[encoded data removed]",
       "text": [
        "<matplotlib.figure.Figure at 0x19c759b0>"
       ]
      }
     ],
     "prompt_number": 97
    },
    {
     "cell_type": "code",
     "collapsed": false,
     "input": [
      "dfPlane['issue_date'] = pd.to_datetime(pd.Series(dfPlane['issue_date']), dayfirst=False, coerce=True)\n",
      "dfMaster.rename(columns={'TailNum' : 'tailnum'}, inplace=True)\n",
      "dfMasterPlane = pd.merge(dfMaster, dfPlane, on='tailnum', how = 'inner')\n",
      "dfMasterPlane.rename(columns={'tailnum' : 'TailNum', 'type' : 'Plane_type', 'manufacturer' : 'Plane_manufacturer', 'issue_date' : 'Plane_issuedate', 'model' : 'Plane_model', 'status' : 'Plane_status', 'aircraft_type' : 'Plane_aircrafttype', 'engine_type' : 'Plane_enginetype', 'year' : 'Plane_year'}, inplace='True')"
     ],
     "language": "python",
     "metadata": {},
     "outputs": [],
     "prompt_number": 98
    },
    {
     "cell_type": "code",
     "collapsed": false,
     "input": [
      "dfMasterPlane.columns"
     ],
     "language": "python",
     "metadata": {},
     "outputs": [
      {
       "metadata": {},
       "output_type": "pyout",
       "prompt_number": 99,
       "text": [
        "array(['Year', 'Month', 'DayofMonth', 'DayOfWeek', 'DepTime', 'CRSDepTime',\n",
        "       'ArrTime', 'CRSArrTime', 'UniqueCarrier', 'FlightNum', 'TailNum',\n",
        "       'ActualElapsedTime', 'CRSElapsedTime', 'AirTime', 'ArrDelay',\n",
        "       'DepDelay', 'Origin', 'Dest', 'Distance', 'TaxiIn', 'TaxiOut',\n",
        "       'Cancelled', 'CancellationCode', 'Diverted', 'CarrierDelay',\n",
        "       'WeatherDelay', 'NASDelay', 'SecurityDelay', 'LateAircraftDelay',\n",
        "       'Origin_airport', 'Origin_city', 'Origin_state', 'Origin_country',\n",
        "       'Origin_lat', 'Origin_long', 'Dest_airport', 'Dest_city',\n",
        "       'Dest_state', 'Dest_country', 'Dest_lat', 'Dest_long',\n",
        "       'Carrier_Description', 'Plane_type', 'Plane_manufacturer',\n",
        "       'Plane_issuedate', 'Plane_model', 'Plane_status',\n",
        "       'Plane_aircrafttype', 'Plane_enginetype', 'Plane_year'], dtype=object)"
       ]
      }
     ],
     "prompt_number": 99
    },
    {
     "cell_type": "code",
     "collapsed": false,
     "input": [
      "dfMasterPlane['FlightDate'] = pd.to_datetime(dfMasterPlane['Month'].astype(str)+'/'+dfMasterPlane['DayofMonth'].astype(str)+'/'+dfMasterPlane['Year'].astype(str), dayfirst=False)"
     ],
     "language": "python",
     "metadata": {},
     "outputs": [],
     "prompt_number": 101
    },
    {
     "cell_type": "code",
     "collapsed": false,
     "input": [
      "dfMasterPlane['PlaneAge'] =  dfMasterPlane['FlightDate'] - dfMasterPlane['Plane_issuedate']"
     ],
     "language": "python",
     "metadata": {},
     "outputs": [],
     "prompt_number": 102
    },
    {
     "cell_type": "code",
     "collapsed": false,
     "input": [
      "dfMasterPlane['PlaneAge']  = dfMasterPlane['PlaneAge'].astype('timedelta64[D]')"
     ],
     "language": "python",
     "metadata": {},
     "outputs": [],
     "prompt_number": 109
    },
    {
     "cell_type": "code",
     "collapsed": false,
     "input": [
      "dfMasterPlane = dfMasterPlane[(dfMasterPlane['ArrDelay'] > 15) | (dfMasterPlane['DepDelay'] > 15) ]"
     ],
     "language": "python",
     "metadata": {},
     "outputs": [],
     "prompt_number": 110
    },
    {
     "cell_type": "code",
     "collapsed": false,
     "input": [
      "dfAgeArrDelay = dfMasterPlane.groupby(by='PlaneAge').apply(lambda x: x[x['ArrDelay'] >=15].count())['ArrDelay']\n",
      "dfAgeDepDelay = dfMasterPlane.groupby(by='PlaneAge').apply(lambda x: x[x['DepDelay'] >=15].count())['DepDelay']"
     ],
     "language": "python",
     "metadata": {},
     "outputs": [],
     "prompt_number": 112
    },
    {
     "cell_type": "code",
     "collapsed": false,
     "input": [
      "#dfAgeDelayCount = pd.concat([dfAgeArrDelay,dfAgeDepDelay], axis=1) \n",
      "dfAgeDelayCount.sort_index(ascending=False, inplace=True)"
     ],
     "language": "python",
     "metadata": {},
     "outputs": [],
     "prompt_number": 131
    },
    {
     "cell_type": "code",
     "collapsed": false,
     "input": [
      "dfAgeDelayCount.head(25).plot(kind='line')"
     ],
     "language": "python",
     "metadata": {},
     "outputs": [
      {
       "metadata": {},
       "output_type": "pyout",
       "prompt_number": 136,
       "text": [
        "<matplotlib.axes.AxesSubplot at 0x2434f6d8>"
       ]
      },
      {
       "metadata": {},
       "output_type": "display_data",
       "png": "[encoded data removed]",
       "text": [
        "<matplotlib.figure.Figure at 0x23ed3e80>"
       ]
      }
     ],
     "prompt_number": 136
    }
   ],
   "metadata": {}
  }
 ]
}