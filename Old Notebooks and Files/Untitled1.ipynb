{
 "metadata": {
  "name": "",
  "signature": "sha256:5dc0472564d2ca65316f02ce8b8f342e42cb1bc4890b2e3735fcdbe0e273a38f"
 },
 "nbformat": 3,
 "nbformat_minor": 0,
 "worksheets": [
  {
   "cells": [
    {
     "cell_type": "code",
     "collapsed": false,
     "input": [
      "import pandas as pd\n",
      "path = \"C:\\\\data\\\\airline\\\\2001.csv\"\n",
      "dfMaster = pd.read_csv(path, skiprows=0, nrows=8000000, usecols=[u'Year', u'Month', u'DayofMonth', u'DayOfWeek',u'UniqueCarrier',\n",
      "                                                                                      u'ArrDelay', u'DepDelay', u'Origin', u'Dest',u'FlightNum', u'TailNum'\n",
      "                                                                                      ])\n",
      "dfMaster.to_pickle(\"C:\\\\data\\\\airline\\\\dfMasterPickle2008.pkl\")\n",
      "\n",
      "\n",
      "#u'Year', u'Month', u'DayofMonth', u'DayOfWeek', u'DepTime', u'CRSDepTime', u'ArrTime', u'CRSArrTime', \n",
      "# u'UniqueCarrier', u'FlightNum', u'TailNum', u'ActualElapsedTime', u'CRSElapsedTime', u'AirTime', u'ArrDelay', u'DepDelay', \n",
      "# u'Origin', u'Dest', u'Distance', u'TaxiIn', u'TaxiOut', u'Cancelled', u'CancellationCode', u'Diverted', u'CarrierDelay', u'WeatherDelay', \n",
      "# u'NASDelay', u'SecurityDelay', u'LateAircraftDelay']"
     ],
     "language": "python",
     "metadata": {},
     "outputs": [],
     "prompt_number": 1
    },
    {
     "cell_type": "code",
     "collapsed": false,
     "input": [
      "# Pickle code\n",
      "# Update this path to your pickle file path. Assuming you saved it somewhere on your local machine\n",
      "INPUT_FILE_PATH = \"C:\\\\data\\\\airline\\\\dfMasterPickle2008.pkl\"\n",
      "dfMaster = pd.read_pickle(INPUT_FILE_PATH)\n",
      "print len(dfMaster) #should be 7M\n",
      "dfMaster.columns"
     ],
     "language": "python",
     "metadata": {},
     "outputs": [
      {
       "output_type": "stream",
       "stream": "stdout",
       "text": [
        "7009728\n"
       ]
      },
      {
       "metadata": {},
       "output_type": "pyout",
       "prompt_number": 2,
       "text": [
        "Index([u'Year', u'Month', u'DayofMonth', u'DayOfWeek', u'UniqueCarrier', u'FlightNum', u'TailNum', u'ArrDelay', u'DepDelay', u'Origin', u'Dest'], dtype='object')"
       ]
      }
     ],
     "prompt_number": 2
    }
   ],
   "metadata": {}
  }
 ]
}